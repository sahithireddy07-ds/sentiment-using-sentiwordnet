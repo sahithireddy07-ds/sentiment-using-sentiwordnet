{
  "nbformat": 4,
  "nbformat_minor": 0,
  "metadata": {
    "colab": {
      "name": "sentiment.ipynb",
      "provenance": [],
      "collapsed_sections": []
    },
    "kernelspec": {
      "name": "python3",
      "display_name": "Python 3"
    },
    "language_info": {
      "name": "python"
    }
  },
  "cells": [
    {
      "cell_type": "markdown",
      "metadata": {
        "id": "kaOlk4U9BwMm"
      },
      "source": [
        "#Sentiment analysis on Twitter data using machine learning algorithms.\n",
        "\n",
        "Data used: twitter tweets\n",
        "\n",
        "Feature engineering: BOW and TF-IDF\n",
        "\n",
        "Model: Logistic regression\n",
        "\n",
        "Result: BOW provides best features as compared to TF-IDF"
      ]
    },
    {
      "cell_type": "markdown",
      "metadata": {
        "id": "h9ccfbmPB_Qa"
      },
      "source": [
        "- downloading libraries"
      ]
    },
    {
      "cell_type": "code",
      "metadata": {
        "colab": {
          "base_uri": "https://localhost:8080/"
        },
        "id": "iTvhFCQW54iP",
        "outputId": "a6d7a325-278b-41d7-8a86-f72e5e1423f1"
      },
      "source": [
        "import nltk\n",
        "nltk.download('punkt')"
      ],
      "execution_count": null,
      "outputs": [
        {
          "output_type": "stream",
          "text": [
            "[nltk_data] Downloading package punkt to /root/nltk_data...\n",
            "[nltk_data]   Package punkt is already up-to-date!\n"
          ],
          "name": "stdout"
        },
        {
          "output_type": "execute_result",
          "data": {
            "text/plain": [
              "True"
            ]
          },
          "metadata": {
            "tags": []
          },
          "execution_count": 93
        }
      ]
    },
    {
      "cell_type": "code",
      "metadata": {
        "colab": {
          "base_uri": "https://localhost:8080/"
        },
        "id": "80cReaKWGpnO",
        "outputId": "ebcb9f46-24f5-454a-9b62-63873c40a4ce"
      },
      "source": [
        "import nltk\n",
        "nltk.download('stopwords')"
      ],
      "execution_count": null,
      "outputs": [
        {
          "output_type": "stream",
          "text": [
            "[nltk_data] Downloading package stopwords to /root/nltk_data...\n",
            "[nltk_data]   Package stopwords is already up-to-date!\n"
          ],
          "name": "stdout"
        },
        {
          "output_type": "execute_result",
          "data": {
            "text/plain": [
              "True"
            ]
          },
          "metadata": {
            "tags": []
          },
          "execution_count": 99
        }
      ]
    },
    {
      "cell_type": "code",
      "metadata": {
        "colab": {
          "base_uri": "https://localhost:8080/"
        },
        "id": "lgOGxxV4KCCp",
        "outputId": "f6b2b1df-feb0-4db9-a0cb-e4abd218308f"
      },
      "source": [
        "import nltk\n",
        "nltk.download(\"wordnet\")"
      ],
      "execution_count": null,
      "outputs": [
        {
          "output_type": "stream",
          "text": [
            "[nltk_data] Downloading package wordnet to /root/nltk_data...\n",
            "[nltk_data]   Package wordnet is already up-to-date!\n"
          ],
          "name": "stdout"
        },
        {
          "output_type": "execute_result",
          "data": {
            "text/plain": [
              "True"
            ]
          },
          "metadata": {
            "tags": []
          },
          "execution_count": 102
        }
      ]
    },
    {
      "cell_type": "code",
      "metadata": {
        "colab": {
          "base_uri": "https://localhost:8080/"
        },
        "id": "Ea-M3D3ac3tu",
        "outputId": "35f63a56-2334-438a-d8f7-e1fe54d409ed"
      },
      "source": [
        "import nltk\n",
        "nltk.download(\"averaged_perceptron_tagger\")"
      ],
      "execution_count": null,
      "outputs": [
        {
          "output_type": "stream",
          "text": [
            "[nltk_data] Downloading package averaged_perceptron_tagger to\n",
            "[nltk_data]     /root/nltk_data...\n",
            "[nltk_data]   Package averaged_perceptron_tagger is already up-to-\n",
            "[nltk_data]       date!\n"
          ],
          "name": "stdout"
        },
        {
          "output_type": "execute_result",
          "data": {
            "text/plain": [
              "True"
            ]
          },
          "metadata": {
            "tags": []
          },
          "execution_count": 104
        }
      ]
    },
    {
      "cell_type": "code",
      "metadata": {
        "colab": {
          "base_uri": "https://localhost:8080/"
        },
        "id": "-KsFrSPrsAp5",
        "outputId": "5795d995-e783-4ff1-94a6-3f7905ee2070"
      },
      "source": [
        "import nltk\n",
        "nltk.download(\"sentiwordnet\")"
      ],
      "execution_count": null,
      "outputs": [
        {
          "output_type": "stream",
          "text": [
            "[nltk_data] Downloading package sentiwordnet to /root/nltk_data...\n",
            "[nltk_data]   Package sentiwordnet is already up-to-date!\n"
          ],
          "name": "stdout"
        },
        {
          "output_type": "execute_result",
          "data": {
            "text/plain": [
              "True"
            ]
          },
          "metadata": {
            "tags": []
          },
          "execution_count": 108
        }
      ]
    },
    {
      "cell_type": "markdown",
      "metadata": {
        "id": "ldrRSfMcC6u-"
      },
      "source": [
        "- importing libraries"
      ]
    },
    {
      "cell_type": "code",
      "metadata": {
        "id": "_aXqsXj_8Hnv"
      },
      "source": [
        "from nltk.corpus import wordnet as wn"
      ],
      "execution_count": null,
      "outputs": []
    },
    {
      "cell_type": "code",
      "metadata": {
        "id": "9N6TR6eN3rjW"
      },
      "source": [
        "from nltk.tokenize import word_tokenize\n",
        "from nltk.stem import WordNetLemmatizer\n",
        "from wordcloud import WordCloud\n",
        "from nltk.corpus import stopwords \n",
        "from nltk.corpus import sentiwordnet as swn"
      ],
      "execution_count": null,
      "outputs": []
    },
    {
      "cell_type": "code",
      "metadata": {
        "id": "s1dMwuGfimsv"
      },
      "source": [
        "import ssl\n",
        "from nltk.corpus import wordnet as wn\n",
        "from nltk.corpus import sentiwordnet as swn"
      ],
      "execution_count": null,
      "outputs": []
    },
    {
      "cell_type": "code",
      "metadata": {
        "id": "HQd5zse9uNfe"
      },
      "source": [
        "from nltk.tag import pos_tag"
      ],
      "execution_count": null,
      "outputs": []
    },
    {
      "cell_type": "markdown",
      "metadata": {
        "id": "0ZB6aTkBDCPd"
      },
      "source": [
        "- data loading"
      ]
    },
    {
      "cell_type": "code",
      "metadata": {
        "id": "bQYKXGa0yIiM"
      },
      "source": [
        "import pandas as pd\n",
        "df=pd.read_csv(\"/content/file1.csv\",engine=\"python\",error_bad_lines=False)"
      ],
      "execution_count": null,
      "outputs": []
    },
    {
      "cell_type": "code",
      "metadata": {
        "colab": {
          "base_uri": "https://localhost:8080/",
          "height": 686
        },
        "id": "JC0imZ3Yy5yH",
        "outputId": "c5c25a49-c735-4e8b-bbcb-07d22a640532"
      },
      "source": [
        "df.head()"
      ],
      "execution_count": null,
      "outputs": [
        {
          "output_type": "execute_result",
          "data": {
            "text/html": [
              "<div>\n",
              "<style scoped>\n",
              "    .dataframe tbody tr th:only-of-type {\n",
              "        vertical-align: middle;\n",
              "    }\n",
              "\n",
              "    .dataframe tbody tr th {\n",
              "        vertical-align: top;\n",
              "    }\n",
              "\n",
              "    .dataframe thead th {\n",
              "        text-align: right;\n",
              "    }\n",
              "</style>\n",
              "<table border=\"1\" class=\"dataframe\">\n",
              "  <thead>\n",
              "    <tr style=\"text-align: right;\">\n",
              "      <th></th>\n",
              "      <th>Unnamed: 0</th>\n",
              "      <th>_id</th>\n",
              "      <th>created_at</th>\n",
              "      <th>id</th>\n",
              "      <th>id_str</th>\n",
              "      <th>full_text</th>\n",
              "      <th>truncated</th>\n",
              "      <th>display_text_range</th>\n",
              "      <th>entities</th>\n",
              "      <th>metadata</th>\n",
              "      <th>source</th>\n",
              "      <th>in_reply_to_status_id</th>\n",
              "      <th>in_reply_to_status_id_str</th>\n",
              "      <th>in_reply_to_user_id</th>\n",
              "      <th>in_reply_to_user_id_str</th>\n",
              "      <th>in_reply_to_screen_name</th>\n",
              "      <th>user</th>\n",
              "      <th>geo</th>\n",
              "      <th>coordinates</th>\n",
              "      <th>place</th>\n",
              "      <th>contributors</th>\n",
              "      <th>is_quote_status</th>\n",
              "      <th>retweet_count</th>\n",
              "      <th>favorite_count</th>\n",
              "      <th>favorited</th>\n",
              "      <th>retweeted</th>\n",
              "      <th>lang</th>\n",
              "      <th>possibly_sensitive</th>\n",
              "      <th>extended_entities</th>\n",
              "      <th>quoted_status_id</th>\n",
              "      <th>quoted_status_id_str</th>\n",
              "      <th>quoted_status</th>\n",
              "    </tr>\n",
              "  </thead>\n",
              "  <tbody>\n",
              "    <tr>\n",
              "      <th>0</th>\n",
              "      <td>0</td>\n",
              "      <td>60a364dce299a65bbb32eaed</td>\n",
              "      <td>Tue May 18 06:56:29 +0000 2021</td>\n",
              "      <td>1394547422060240896</td>\n",
              "      <td>1394547422060240896</td>\n",
              "      <td>i didn't listen to tiktok and didn't move my a...</td>\n",
              "      <td>False</td>\n",
              "      <td>[0, 102]</td>\n",
              "      <td>{'hashtags': [], 'symbols': [], 'user_mentions...</td>\n",
              "      <td>{'iso_language_code': 'en', 'result_type': 're...</td>\n",
              "      <td>&lt;a href=\"https://mobile.twitter.com\" rel=\"nofo...</td>\n",
              "      <td>NaN</td>\n",
              "      <td>NaN</td>\n",
              "      <td>NaN</td>\n",
              "      <td>NaN</td>\n",
              "      <td>NaN</td>\n",
              "      <td>{'id': 1380497889642881027, 'id_str': '1380497...</td>\n",
              "      <td>NaN</td>\n",
              "      <td>NaN</td>\n",
              "      <td>NaN</td>\n",
              "      <td>NaN</td>\n",
              "      <td>False</td>\n",
              "      <td>0</td>\n",
              "      <td>0</td>\n",
              "      <td>False</td>\n",
              "      <td>False</td>\n",
              "      <td>en</td>\n",
              "      <td>NaN</td>\n",
              "      <td>NaN</td>\n",
              "      <td>NaN</td>\n",
              "      <td>NaN</td>\n",
              "      <td>NaN</td>\n",
              "    </tr>\n",
              "    <tr>\n",
              "      <th>1</th>\n",
              "      <td>1</td>\n",
              "      <td>60a364dce299a65bbb32eaee</td>\n",
              "      <td>Tue May 18 06:56:15 +0000 2021</td>\n",
              "      <td>1394547363654549506</td>\n",
              "      <td>1394547363654549506</td>\n",
              "      <td>FEEL-GOOD TUESDAY: Farmers from across South A...</td>\n",
              "      <td>False</td>\n",
              "      <td>[0, 196]</td>\n",
              "      <td>{'hashtags': [], 'symbols': [], 'user_mentions...</td>\n",
              "      <td>{'iso_language_code': 'en', 'result_type': 're...</td>\n",
              "      <td>&lt;a href=\"http://publicize.wp.com/\" rel=\"nofoll...</td>\n",
              "      <td>NaN</td>\n",
              "      <td>NaN</td>\n",
              "      <td>NaN</td>\n",
              "      <td>NaN</td>\n",
              "      <td>NaN</td>\n",
              "      <td>{'id': 1029316998189248512, 'id_str': '1029316...</td>\n",
              "      <td>NaN</td>\n",
              "      <td>NaN</td>\n",
              "      <td>NaN</td>\n",
              "      <td>NaN</td>\n",
              "      <td>False</td>\n",
              "      <td>0</td>\n",
              "      <td>0</td>\n",
              "      <td>False</td>\n",
              "      <td>False</td>\n",
              "      <td>en</td>\n",
              "      <td>False</td>\n",
              "      <td>NaN</td>\n",
              "      <td>NaN</td>\n",
              "      <td>NaN</td>\n",
              "      <td>NaN</td>\n",
              "    </tr>\n",
              "    <tr>\n",
              "      <th>2</th>\n",
              "      <td>2</td>\n",
              "      <td>60a364dce299a65bbb32eaef</td>\n",
              "      <td>Tue May 18 06:56:15 +0000 2021</td>\n",
              "      <td>1394547362119311360</td>\n",
              "      <td>1394547362119311360</td>\n",
              "      <td>Defer vaccine shots for Covid infected by up t...</td>\n",
              "      <td>False</td>\n",
              "      <td>[0, 263]</td>\n",
              "      <td>{'hashtags': [{'text': 'COVID19', 'indices': [...</td>\n",
              "      <td>{'iso_language_code': 'en', 'result_type': 're...</td>\n",
              "      <td>&lt;a href=\"http://twitter.com/download/iphone\" r...</td>\n",
              "      <td>NaN</td>\n",
              "      <td>NaN</td>\n",
              "      <td>NaN</td>\n",
              "      <td>NaN</td>\n",
              "      <td>NaN</td>\n",
              "      <td>{'id': 176330561, 'id_str': '176330561', 'name...</td>\n",
              "      <td>NaN</td>\n",
              "      <td>NaN</td>\n",
              "      <td>NaN</td>\n",
              "      <td>NaN</td>\n",
              "      <td>False</td>\n",
              "      <td>0</td>\n",
              "      <td>0</td>\n",
              "      <td>False</td>\n",
              "      <td>False</td>\n",
              "      <td>en</td>\n",
              "      <td>False</td>\n",
              "      <td>{'media': [{'id': 1394547349947518978, 'id_str...</td>\n",
              "      <td>NaN</td>\n",
              "      <td>NaN</td>\n",
              "      <td>NaN</td>\n",
              "    </tr>\n",
              "    <tr>\n",
              "      <th>3</th>\n",
              "      <td>3</td>\n",
              "      <td>60a364dce299a65bbb32eaf0</td>\n",
              "      <td>Tue May 18 06:56:15 +0000 2021</td>\n",
              "      <td>1394547361922174978</td>\n",
              "      <td>1394547361922174978</td>\n",
              "      <td>Pakistan receives 1 million doses of Sinovac C...</td>\n",
              "      <td>False</td>\n",
              "      <td>[0, 87]</td>\n",
              "      <td>{'hashtags': [{'text': 'Sinovac', 'indices': [...</td>\n",
              "      <td>{'iso_language_code': 'en', 'result_type': 're...</td>\n",
              "      <td>&lt;a href=\"http://twitter.com/download/android\" ...</td>\n",
              "      <td>NaN</td>\n",
              "      <td>NaN</td>\n",
              "      <td>NaN</td>\n",
              "      <td>NaN</td>\n",
              "      <td>NaN</td>\n",
              "      <td>{'id': 3746727913, 'id_str': '3746727913', 'na...</td>\n",
              "      <td>NaN</td>\n",
              "      <td>NaN</td>\n",
              "      <td>NaN</td>\n",
              "      <td>NaN</td>\n",
              "      <td>False</td>\n",
              "      <td>0</td>\n",
              "      <td>0</td>\n",
              "      <td>False</td>\n",
              "      <td>False</td>\n",
              "      <td>en</td>\n",
              "      <td>NaN</td>\n",
              "      <td>NaN</td>\n",
              "      <td>NaN</td>\n",
              "      <td>NaN</td>\n",
              "      <td>NaN</td>\n",
              "    </tr>\n",
              "    <tr>\n",
              "      <th>4</th>\n",
              "      <td>4</td>\n",
              "      <td>60a364dce299a65bbb32eaf1</td>\n",
              "      <td>Tue May 18 06:56:05 +0000 2021</td>\n",
              "      <td>1394547321195667456</td>\n",
              "      <td>1394547321195667456</td>\n",
              "      <td>COVID news live: Vaccine invites for 37-year-o...</td>\n",
              "      <td>False</td>\n",
              "      <td>[0, 146]</td>\n",
              "      <td>{'hashtags': [], 'symbols': [], 'user_mentions...</td>\n",
              "      <td>{'iso_language_code': 'en', 'result_type': 're...</td>\n",
              "      <td>&lt;a href=\"https://mobile.twitter.com\" rel=\"nofo...</td>\n",
              "      <td>NaN</td>\n",
              "      <td>NaN</td>\n",
              "      <td>NaN</td>\n",
              "      <td>NaN</td>\n",
              "      <td>NaN</td>\n",
              "      <td>{'id': 3341106220, 'id_str': '3341106220', 'na...</td>\n",
              "      <td>NaN</td>\n",
              "      <td>NaN</td>\n",
              "      <td>NaN</td>\n",
              "      <td>NaN</td>\n",
              "      <td>False</td>\n",
              "      <td>0</td>\n",
              "      <td>0</td>\n",
              "      <td>False</td>\n",
              "      <td>False</td>\n",
              "      <td>en</td>\n",
              "      <td>False</td>\n",
              "      <td>NaN</td>\n",
              "      <td>NaN</td>\n",
              "      <td>NaN</td>\n",
              "      <td>NaN</td>\n",
              "    </tr>\n",
              "  </tbody>\n",
              "</table>\n",
              "</div>"
            ],
            "text/plain": [
              "   Unnamed: 0                       _id  ... quoted_status_id_str  quoted_status\n",
              "0           0  60a364dce299a65bbb32eaed  ...                  NaN            NaN\n",
              "1           1  60a364dce299a65bbb32eaee  ...                  NaN            NaN\n",
              "2           2  60a364dce299a65bbb32eaef  ...                  NaN            NaN\n",
              "3           3  60a364dce299a65bbb32eaf0  ...                  NaN            NaN\n",
              "4           4  60a364dce299a65bbb32eaf1  ...                  NaN            NaN\n",
              "\n",
              "[5 rows x 32 columns]"
            ]
          },
          "metadata": {
            "tags": []
          },
          "execution_count": 86
        }
      ]
    },
    {
      "cell_type": "markdown",
      "metadata": {
        "id": "1rl3ycY_DFPK"
      },
      "source": [
        "- length of data"
      ]
    },
    {
      "cell_type": "code",
      "metadata": {
        "colab": {
          "base_uri": "https://localhost:8080/"
        },
        "id": "c8RPrs1yzQ20",
        "outputId": "9d60f24a-e3bd-457f-b218-31fbb3aa71a1"
      },
      "source": [
        "len(df)"
      ],
      "execution_count": null,
      "outputs": [
        {
          "output_type": "execute_result",
          "data": {
            "text/plain": [
              "27893"
            ]
          },
          "metadata": {
            "tags": []
          },
          "execution_count": 87
        }
      ]
    },
    {
      "cell_type": "markdown",
      "metadata": {
        "id": "Z5udIAmdDHiK"
      },
      "source": [
        "shape of data"
      ]
    },
    {
      "cell_type": "code",
      "metadata": {
        "colab": {
          "base_uri": "https://localhost:8080/"
        },
        "id": "3KkT2hDezTS3",
        "outputId": "bcc48874-567c-493c-9fc8-a7388eb73075"
      },
      "source": [
        "df.shape"
      ],
      "execution_count": null,
      "outputs": [
        {
          "output_type": "execute_result",
          "data": {
            "text/plain": [
              "(27893, 32)"
            ]
          },
          "metadata": {
            "tags": []
          },
          "execution_count": 88
        }
      ]
    },
    {
      "cell_type": "markdown",
      "metadata": {
        "id": "H7eZWzY2DRAY"
      },
      "source": [
        "# Preprocessing of data"
      ]
    },
    {
      "cell_type": "markdown",
      "metadata": {
        "id": "B5XcOwgIDMXM"
      },
      "source": [
        "correlation of variables"
      ]
    },
    {
      "cell_type": "code",
      "metadata": {
        "colab": {
          "base_uri": "https://localhost:8080/",
          "height": 600
        },
        "id": "9odm74U6zWli",
        "outputId": "2ffd0085-c5f4-4851-ea63-24c8b6603bb5"
      },
      "source": [
        "df.corr()"
      ],
      "execution_count": null,
      "outputs": [
        {
          "output_type": "execute_result",
          "data": {
            "text/html": [
              "<div>\n",
              "<style scoped>\n",
              "    .dataframe tbody tr th:only-of-type {\n",
              "        vertical-align: middle;\n",
              "    }\n",
              "\n",
              "    .dataframe tbody tr th {\n",
              "        vertical-align: top;\n",
              "    }\n",
              "\n",
              "    .dataframe thead th {\n",
              "        text-align: right;\n",
              "    }\n",
              "</style>\n",
              "<table border=\"1\" class=\"dataframe\">\n",
              "  <thead>\n",
              "    <tr style=\"text-align: right;\">\n",
              "      <th></th>\n",
              "      <th>Unnamed: 0</th>\n",
              "      <th>id</th>\n",
              "      <th>id_str</th>\n",
              "      <th>truncated</th>\n",
              "      <th>in_reply_to_status_id</th>\n",
              "      <th>in_reply_to_status_id_str</th>\n",
              "      <th>in_reply_to_user_id</th>\n",
              "      <th>in_reply_to_user_id_str</th>\n",
              "      <th>in_reply_to_screen_name</th>\n",
              "      <th>contributors</th>\n",
              "      <th>is_quote_status</th>\n",
              "      <th>retweet_count</th>\n",
              "      <th>favorite_count</th>\n",
              "      <th>favorited</th>\n",
              "      <th>retweeted</th>\n",
              "      <th>quoted_status_id</th>\n",
              "      <th>quoted_status_id_str</th>\n",
              "    </tr>\n",
              "  </thead>\n",
              "  <tbody>\n",
              "    <tr>\n",
              "      <th>Unnamed: 0</th>\n",
              "      <td>1.000000</td>\n",
              "      <td>-0.605519</td>\n",
              "      <td>-0.605519</td>\n",
              "      <td>NaN</td>\n",
              "      <td>NaN</td>\n",
              "      <td>NaN</td>\n",
              "      <td>NaN</td>\n",
              "      <td>NaN</td>\n",
              "      <td>NaN</td>\n",
              "      <td>NaN</td>\n",
              "      <td>0.005382</td>\n",
              "      <td>0.011731</td>\n",
              "      <td>0.015357</td>\n",
              "      <td>NaN</td>\n",
              "      <td>NaN</td>\n",
              "      <td>-0.007634</td>\n",
              "      <td>-0.007634</td>\n",
              "    </tr>\n",
              "    <tr>\n",
              "      <th>id</th>\n",
              "      <td>-0.605519</td>\n",
              "      <td>1.000000</td>\n",
              "      <td>1.000000</td>\n",
              "      <td>NaN</td>\n",
              "      <td>NaN</td>\n",
              "      <td>NaN</td>\n",
              "      <td>NaN</td>\n",
              "      <td>NaN</td>\n",
              "      <td>NaN</td>\n",
              "      <td>NaN</td>\n",
              "      <td>-0.008941</td>\n",
              "      <td>-0.016763</td>\n",
              "      <td>-0.022673</td>\n",
              "      <td>NaN</td>\n",
              "      <td>NaN</td>\n",
              "      <td>0.031659</td>\n",
              "      <td>0.031659</td>\n",
              "    </tr>\n",
              "    <tr>\n",
              "      <th>id_str</th>\n",
              "      <td>-0.605519</td>\n",
              "      <td>1.000000</td>\n",
              "      <td>1.000000</td>\n",
              "      <td>NaN</td>\n",
              "      <td>NaN</td>\n",
              "      <td>NaN</td>\n",
              "      <td>NaN</td>\n",
              "      <td>NaN</td>\n",
              "      <td>NaN</td>\n",
              "      <td>NaN</td>\n",
              "      <td>-0.008941</td>\n",
              "      <td>-0.016763</td>\n",
              "      <td>-0.022673</td>\n",
              "      <td>NaN</td>\n",
              "      <td>NaN</td>\n",
              "      <td>0.031659</td>\n",
              "      <td>0.031659</td>\n",
              "    </tr>\n",
              "    <tr>\n",
              "      <th>truncated</th>\n",
              "      <td>NaN</td>\n",
              "      <td>NaN</td>\n",
              "      <td>NaN</td>\n",
              "      <td>NaN</td>\n",
              "      <td>NaN</td>\n",
              "      <td>NaN</td>\n",
              "      <td>NaN</td>\n",
              "      <td>NaN</td>\n",
              "      <td>NaN</td>\n",
              "      <td>NaN</td>\n",
              "      <td>NaN</td>\n",
              "      <td>NaN</td>\n",
              "      <td>NaN</td>\n",
              "      <td>NaN</td>\n",
              "      <td>NaN</td>\n",
              "      <td>NaN</td>\n",
              "      <td>NaN</td>\n",
              "    </tr>\n",
              "    <tr>\n",
              "      <th>in_reply_to_status_id</th>\n",
              "      <td>NaN</td>\n",
              "      <td>NaN</td>\n",
              "      <td>NaN</td>\n",
              "      <td>NaN</td>\n",
              "      <td>NaN</td>\n",
              "      <td>NaN</td>\n",
              "      <td>NaN</td>\n",
              "      <td>NaN</td>\n",
              "      <td>NaN</td>\n",
              "      <td>NaN</td>\n",
              "      <td>NaN</td>\n",
              "      <td>NaN</td>\n",
              "      <td>NaN</td>\n",
              "      <td>NaN</td>\n",
              "      <td>NaN</td>\n",
              "      <td>NaN</td>\n",
              "      <td>NaN</td>\n",
              "    </tr>\n",
              "    <tr>\n",
              "      <th>in_reply_to_status_id_str</th>\n",
              "      <td>NaN</td>\n",
              "      <td>NaN</td>\n",
              "      <td>NaN</td>\n",
              "      <td>NaN</td>\n",
              "      <td>NaN</td>\n",
              "      <td>NaN</td>\n",
              "      <td>NaN</td>\n",
              "      <td>NaN</td>\n",
              "      <td>NaN</td>\n",
              "      <td>NaN</td>\n",
              "      <td>NaN</td>\n",
              "      <td>NaN</td>\n",
              "      <td>NaN</td>\n",
              "      <td>NaN</td>\n",
              "      <td>NaN</td>\n",
              "      <td>NaN</td>\n",
              "      <td>NaN</td>\n",
              "    </tr>\n",
              "    <tr>\n",
              "      <th>in_reply_to_user_id</th>\n",
              "      <td>NaN</td>\n",
              "      <td>NaN</td>\n",
              "      <td>NaN</td>\n",
              "      <td>NaN</td>\n",
              "      <td>NaN</td>\n",
              "      <td>NaN</td>\n",
              "      <td>NaN</td>\n",
              "      <td>NaN</td>\n",
              "      <td>NaN</td>\n",
              "      <td>NaN</td>\n",
              "      <td>NaN</td>\n",
              "      <td>NaN</td>\n",
              "      <td>NaN</td>\n",
              "      <td>NaN</td>\n",
              "      <td>NaN</td>\n",
              "      <td>NaN</td>\n",
              "      <td>NaN</td>\n",
              "    </tr>\n",
              "    <tr>\n",
              "      <th>in_reply_to_user_id_str</th>\n",
              "      <td>NaN</td>\n",
              "      <td>NaN</td>\n",
              "      <td>NaN</td>\n",
              "      <td>NaN</td>\n",
              "      <td>NaN</td>\n",
              "      <td>NaN</td>\n",
              "      <td>NaN</td>\n",
              "      <td>NaN</td>\n",
              "      <td>NaN</td>\n",
              "      <td>NaN</td>\n",
              "      <td>NaN</td>\n",
              "      <td>NaN</td>\n",
              "      <td>NaN</td>\n",
              "      <td>NaN</td>\n",
              "      <td>NaN</td>\n",
              "      <td>NaN</td>\n",
              "      <td>NaN</td>\n",
              "    </tr>\n",
              "    <tr>\n",
              "      <th>in_reply_to_screen_name</th>\n",
              "      <td>NaN</td>\n",
              "      <td>NaN</td>\n",
              "      <td>NaN</td>\n",
              "      <td>NaN</td>\n",
              "      <td>NaN</td>\n",
              "      <td>NaN</td>\n",
              "      <td>NaN</td>\n",
              "      <td>NaN</td>\n",
              "      <td>NaN</td>\n",
              "      <td>NaN</td>\n",
              "      <td>NaN</td>\n",
              "      <td>NaN</td>\n",
              "      <td>NaN</td>\n",
              "      <td>NaN</td>\n",
              "      <td>NaN</td>\n",
              "      <td>NaN</td>\n",
              "      <td>NaN</td>\n",
              "    </tr>\n",
              "    <tr>\n",
              "      <th>contributors</th>\n",
              "      <td>NaN</td>\n",
              "      <td>NaN</td>\n",
              "      <td>NaN</td>\n",
              "      <td>NaN</td>\n",
              "      <td>NaN</td>\n",
              "      <td>NaN</td>\n",
              "      <td>NaN</td>\n",
              "      <td>NaN</td>\n",
              "      <td>NaN</td>\n",
              "      <td>NaN</td>\n",
              "      <td>NaN</td>\n",
              "      <td>NaN</td>\n",
              "      <td>NaN</td>\n",
              "      <td>NaN</td>\n",
              "      <td>NaN</td>\n",
              "      <td>NaN</td>\n",
              "      <td>NaN</td>\n",
              "    </tr>\n",
              "    <tr>\n",
              "      <th>is_quote_status</th>\n",
              "      <td>0.005382</td>\n",
              "      <td>-0.008941</td>\n",
              "      <td>-0.008941</td>\n",
              "      <td>NaN</td>\n",
              "      <td>NaN</td>\n",
              "      <td>NaN</td>\n",
              "      <td>NaN</td>\n",
              "      <td>NaN</td>\n",
              "      <td>NaN</td>\n",
              "      <td>NaN</td>\n",
              "      <td>1.000000</td>\n",
              "      <td>-0.003278</td>\n",
              "      <td>-0.004652</td>\n",
              "      <td>NaN</td>\n",
              "      <td>NaN</td>\n",
              "      <td>NaN</td>\n",
              "      <td>NaN</td>\n",
              "    </tr>\n",
              "    <tr>\n",
              "      <th>retweet_count</th>\n",
              "      <td>0.011731</td>\n",
              "      <td>-0.016763</td>\n",
              "      <td>-0.016763</td>\n",
              "      <td>NaN</td>\n",
              "      <td>NaN</td>\n",
              "      <td>NaN</td>\n",
              "      <td>NaN</td>\n",
              "      <td>NaN</td>\n",
              "      <td>NaN</td>\n",
              "      <td>NaN</td>\n",
              "      <td>-0.003278</td>\n",
              "      <td>1.000000</td>\n",
              "      <td>0.924074</td>\n",
              "      <td>NaN</td>\n",
              "      <td>NaN</td>\n",
              "      <td>-0.015470</td>\n",
              "      <td>-0.015470</td>\n",
              "    </tr>\n",
              "    <tr>\n",
              "      <th>favorite_count</th>\n",
              "      <td>0.015357</td>\n",
              "      <td>-0.022673</td>\n",
              "      <td>-0.022673</td>\n",
              "      <td>NaN</td>\n",
              "      <td>NaN</td>\n",
              "      <td>NaN</td>\n",
              "      <td>NaN</td>\n",
              "      <td>NaN</td>\n",
              "      <td>NaN</td>\n",
              "      <td>NaN</td>\n",
              "      <td>-0.004652</td>\n",
              "      <td>0.924074</td>\n",
              "      <td>1.000000</td>\n",
              "      <td>NaN</td>\n",
              "      <td>NaN</td>\n",
              "      <td>-0.022033</td>\n",
              "      <td>-0.022033</td>\n",
              "    </tr>\n",
              "    <tr>\n",
              "      <th>favorited</th>\n",
              "      <td>NaN</td>\n",
              "      <td>NaN</td>\n",
              "      <td>NaN</td>\n",
              "      <td>NaN</td>\n",
              "      <td>NaN</td>\n",
              "      <td>NaN</td>\n",
              "      <td>NaN</td>\n",
              "      <td>NaN</td>\n",
              "      <td>NaN</td>\n",
              "      <td>NaN</td>\n",
              "      <td>NaN</td>\n",
              "      <td>NaN</td>\n",
              "      <td>NaN</td>\n",
              "      <td>NaN</td>\n",
              "      <td>NaN</td>\n",
              "      <td>NaN</td>\n",
              "      <td>NaN</td>\n",
              "    </tr>\n",
              "    <tr>\n",
              "      <th>retweeted</th>\n",
              "      <td>NaN</td>\n",
              "      <td>NaN</td>\n",
              "      <td>NaN</td>\n",
              "      <td>NaN</td>\n",
              "      <td>NaN</td>\n",
              "      <td>NaN</td>\n",
              "      <td>NaN</td>\n",
              "      <td>NaN</td>\n",
              "      <td>NaN</td>\n",
              "      <td>NaN</td>\n",
              "      <td>NaN</td>\n",
              "      <td>NaN</td>\n",
              "      <td>NaN</td>\n",
              "      <td>NaN</td>\n",
              "      <td>NaN</td>\n",
              "      <td>NaN</td>\n",
              "      <td>NaN</td>\n",
              "    </tr>\n",
              "    <tr>\n",
              "      <th>quoted_status_id</th>\n",
              "      <td>-0.007634</td>\n",
              "      <td>0.031659</td>\n",
              "      <td>0.031659</td>\n",
              "      <td>NaN</td>\n",
              "      <td>NaN</td>\n",
              "      <td>NaN</td>\n",
              "      <td>NaN</td>\n",
              "      <td>NaN</td>\n",
              "      <td>NaN</td>\n",
              "      <td>NaN</td>\n",
              "      <td>NaN</td>\n",
              "      <td>-0.015470</td>\n",
              "      <td>-0.022033</td>\n",
              "      <td>NaN</td>\n",
              "      <td>NaN</td>\n",
              "      <td>1.000000</td>\n",
              "      <td>1.000000</td>\n",
              "    </tr>\n",
              "    <tr>\n",
              "      <th>quoted_status_id_str</th>\n",
              "      <td>-0.007634</td>\n",
              "      <td>0.031659</td>\n",
              "      <td>0.031659</td>\n",
              "      <td>NaN</td>\n",
              "      <td>NaN</td>\n",
              "      <td>NaN</td>\n",
              "      <td>NaN</td>\n",
              "      <td>NaN</td>\n",
              "      <td>NaN</td>\n",
              "      <td>NaN</td>\n",
              "      <td>NaN</td>\n",
              "      <td>-0.015470</td>\n",
              "      <td>-0.022033</td>\n",
              "      <td>NaN</td>\n",
              "      <td>NaN</td>\n",
              "      <td>1.000000</td>\n",
              "      <td>1.000000</td>\n",
              "    </tr>\n",
              "  </tbody>\n",
              "</table>\n",
              "</div>"
            ],
            "text/plain": [
              "                           Unnamed: 0  ...  quoted_status_id_str\n",
              "Unnamed: 0                   1.000000  ...             -0.007634\n",
              "id                          -0.605519  ...              0.031659\n",
              "id_str                      -0.605519  ...              0.031659\n",
              "truncated                         NaN  ...                   NaN\n",
              "in_reply_to_status_id             NaN  ...                   NaN\n",
              "in_reply_to_status_id_str         NaN  ...                   NaN\n",
              "in_reply_to_user_id               NaN  ...                   NaN\n",
              "in_reply_to_user_id_str           NaN  ...                   NaN\n",
              "in_reply_to_screen_name           NaN  ...                   NaN\n",
              "contributors                      NaN  ...                   NaN\n",
              "is_quote_status              0.005382  ...                   NaN\n",
              "retweet_count                0.011731  ...             -0.015470\n",
              "favorite_count               0.015357  ...             -0.022033\n",
              "favorited                         NaN  ...                   NaN\n",
              "retweeted                         NaN  ...                   NaN\n",
              "quoted_status_id            -0.007634  ...              1.000000\n",
              "quoted_status_id_str        -0.007634  ...              1.000000\n",
              "\n",
              "[17 rows x 17 columns]"
            ]
          },
          "metadata": {
            "tags": []
          },
          "execution_count": 89
        }
      ]
    },
    {
      "cell_type": "code",
      "metadata": {
        "id": "V310clVtzcIP"
      },
      "source": [
        "df1=df[[\"full_text\"]]\n",
        "df1.index+=1"
      ],
      "execution_count": null,
      "outputs": []
    },
    {
      "cell_type": "code",
      "metadata": {
        "colab": {
          "base_uri": "https://localhost:8080/",
          "height": 199
        },
        "id": "VoAucWVU57n-",
        "outputId": "3d89a041-3d2c-4910-8632-c2ecb5b8a339"
      },
      "source": [
        "df1.head()"
      ],
      "execution_count": null,
      "outputs": [
        {
          "output_type": "execute_result",
          "data": {
            "text/html": [
              "<div>\n",
              "<style scoped>\n",
              "    .dataframe tbody tr th:only-of-type {\n",
              "        vertical-align: middle;\n",
              "    }\n",
              "\n",
              "    .dataframe tbody tr th {\n",
              "        vertical-align: top;\n",
              "    }\n",
              "\n",
              "    .dataframe thead th {\n",
              "        text-align: right;\n",
              "    }\n",
              "</style>\n",
              "<table border=\"1\" class=\"dataframe\">\n",
              "  <thead>\n",
              "    <tr style=\"text-align: right;\">\n",
              "      <th></th>\n",
              "      <th>full_text</th>\n",
              "    </tr>\n",
              "  </thead>\n",
              "  <tbody>\n",
              "    <tr>\n",
              "      <th>1</th>\n",
              "      <td>i didn't listen to tiktok and didn't move my a...</td>\n",
              "    </tr>\n",
              "    <tr>\n",
              "      <th>2</th>\n",
              "      <td>FEEL-GOOD TUESDAY: Farmers from across South A...</td>\n",
              "    </tr>\n",
              "    <tr>\n",
              "      <th>3</th>\n",
              "      <td>Defer vaccine shots for Covid infected by up t...</td>\n",
              "    </tr>\n",
              "    <tr>\n",
              "      <th>4</th>\n",
              "      <td>Pakistan receives 1 million doses of Sinovac C...</td>\n",
              "    </tr>\n",
              "    <tr>\n",
              "      <th>5</th>\n",
              "      <td>COVID news live: Vaccine invites for 37-year-o...</td>\n",
              "    </tr>\n",
              "  </tbody>\n",
              "</table>\n",
              "</div>"
            ],
            "text/plain": [
              "                                           full_text\n",
              "1  i didn't listen to tiktok and didn't move my a...\n",
              "2  FEEL-GOOD TUESDAY: Farmers from across South A...\n",
              "3  Defer vaccine shots for Covid infected by up t...\n",
              "4  Pakistan receives 1 million doses of Sinovac C...\n",
              "5  COVID news live: Vaccine invites for 37-year-o..."
            ]
          },
          "metadata": {
            "tags": []
          },
          "execution_count": 91
        }
      ]
    },
    {
      "cell_type": "code",
      "metadata": {
        "colab": {
          "base_uri": "https://localhost:8080/"
        },
        "id": "7sShEqzj9aJQ",
        "outputId": "1d24e779-58cd-41d6-88e7-c4585f5d23ab"
      },
      "source": [
        "df1.shape"
      ],
      "execution_count": null,
      "outputs": [
        {
          "output_type": "execute_result",
          "data": {
            "text/plain": [
              "(27893, 1)"
            ]
          },
          "metadata": {
            "tags": []
          },
          "execution_count": 92
        }
      ]
    },
    {
      "cell_type": "code",
      "metadata": {
        "colab": {
          "base_uri": "https://localhost:8080/"
        },
        "id": "ycSS0nhf_MMD",
        "outputId": "d99bb532-3aaf-4f29-a5cc-d1011519089c"
      },
      "source": [
        "df1[\"full_text\"]=df1[\"full_text\"].str.lower()"
      ],
      "execution_count": null,
      "outputs": [
        {
          "output_type": "stream",
          "text": [
            "/usr/local/lib/python3.7/dist-packages/ipykernel_launcher.py:1: SettingWithCopyWarning: \n",
            "A value is trying to be set on a copy of a slice from a DataFrame.\n",
            "Try using .loc[row_indexer,col_indexer] = value instead\n",
            "\n",
            "See the caveats in the documentation: https://pandas.pydata.org/pandas-docs/stable/user_guide/indexing.html#returning-a-view-versus-a-copy\n",
            "  \"\"\"Entry point for launching an IPython kernel.\n"
          ],
          "name": "stderr"
        }
      ]
    },
    {
      "cell_type": "code",
      "metadata": {
        "colab": {
          "base_uri": "https://localhost:8080/"
        },
        "id": "MwI9LxAZBYIP",
        "outputId": "47eca5a7-6ec3-4b73-85e9-a27e97a13e4c"
      },
      "source": [
        "import re\n",
        "# Code to remove the Hashtags from the text\n",
        "df1[\"full_text\"]=df1[\"full_text\"].apply(lambda x:re.sub(r'\\B#\\S+','',x))\n",
        "# Code to remove the links from the text\n",
        "df1[\"full_text\"]=df1[\"full_text\"].apply(lambda x:re.sub(r\"http\\S+\", \"\", x))\n",
        "# Code to remove the Special characters from the text \n",
        "df1[\"full_text\"]=df1[\"full_text\"].apply(lambda x:' '.join(re.findall(r'\\w+', x)))\n",
        "# Code to substitute the multiple spaces with single spaces\n",
        "df1[\"full_text\"]=df1[\"full_text\"].apply(lambda x:re.sub(r'\\s+', ' ', x, flags=re.I))\n",
        "df1[\"full_text\"]=df1[\"full_text\"].apply(lambda x:re.sub(r'0\\w+',\"\",x))\n",
        "df1[\"full_text\"]=df1[\"full_text\"].apply(lambda x:re.sub(r'1\\w+',\"\",x))\n",
        "df1[\"full_text\"]=df1[\"full_text\"].apply(lambda x:re.sub(r'2\\w+',\"\",x))\n",
        "df1[\"full_text\"]=df1[\"full_text\"].apply(lambda x:re.sub(r'3\\w+',\"\",x))\n",
        "df1[\"full_text\"]=df1[\"full_text\"].apply(lambda x:re.sub(r'4\\w+',\"\",x))\n",
        "df1[\"full_text\"]=df1[\"full_text\"].apply(lambda x:re.sub(r'5\\w+',\"\",x))\n",
        "df1[\"full_text\"]=df1[\"full_text\"].apply(lambda x:re.sub(r'6\\w+',\"\",x))\n",
        "df1[\"full_text\"]=df1[\"full_text\"].apply(lambda x:re.sub(r'7\\w+',\"\",x))\n",
        "df1[\"full_text\"]=df1[\"full_text\"].apply(lambda x:re.sub(r'8\\w+',\"\",x))\n",
        "df1[\"full_text\"]=df1[\"full_text\"].apply(lambda x:re.sub(r'9\\w+',\"\",x))\n",
        "df1[\"full_text\"]=df1[\"full_text\"].apply(lambda x:re.sub(r'_\\w+',\"\",x))"
      ],
      "execution_count": null,
      "outputs": [
        {
          "output_type": "stream",
          "text": [
            "/usr/local/lib/python3.7/dist-packages/ipykernel_launcher.py:3: SettingWithCopyWarning: \n",
            "A value is trying to be set on a copy of a slice from a DataFrame.\n",
            "Try using .loc[row_indexer,col_indexer] = value instead\n",
            "\n",
            "See the caveats in the documentation: https://pandas.pydata.org/pandas-docs/stable/user_guide/indexing.html#returning-a-view-versus-a-copy\n",
            "  This is separate from the ipykernel package so we can avoid doing imports until\n",
            "/usr/local/lib/python3.7/dist-packages/ipykernel_launcher.py:5: SettingWithCopyWarning: \n",
            "A value is trying to be set on a copy of a slice from a DataFrame.\n",
            "Try using .loc[row_indexer,col_indexer] = value instead\n",
            "\n",
            "See the caveats in the documentation: https://pandas.pydata.org/pandas-docs/stable/user_guide/indexing.html#returning-a-view-versus-a-copy\n",
            "  \"\"\"\n",
            "/usr/local/lib/python3.7/dist-packages/ipykernel_launcher.py:7: SettingWithCopyWarning: \n",
            "A value is trying to be set on a copy of a slice from a DataFrame.\n",
            "Try using .loc[row_indexer,col_indexer] = value instead\n",
            "\n",
            "See the caveats in the documentation: https://pandas.pydata.org/pandas-docs/stable/user_guide/indexing.html#returning-a-view-versus-a-copy\n",
            "  import sys\n",
            "/usr/local/lib/python3.7/dist-packages/ipykernel_launcher.py:9: SettingWithCopyWarning: \n",
            "A value is trying to be set on a copy of a slice from a DataFrame.\n",
            "Try using .loc[row_indexer,col_indexer] = value instead\n",
            "\n",
            "See the caveats in the documentation: https://pandas.pydata.org/pandas-docs/stable/user_guide/indexing.html#returning-a-view-versus-a-copy\n",
            "  if __name__ == '__main__':\n",
            "/usr/local/lib/python3.7/dist-packages/ipykernel_launcher.py:10: SettingWithCopyWarning: \n",
            "A value is trying to be set on a copy of a slice from a DataFrame.\n",
            "Try using .loc[row_indexer,col_indexer] = value instead\n",
            "\n",
            "See the caveats in the documentation: https://pandas.pydata.org/pandas-docs/stable/user_guide/indexing.html#returning-a-view-versus-a-copy\n",
            "  # Remove the CWD from sys.path while we load stuff.\n",
            "/usr/local/lib/python3.7/dist-packages/ipykernel_launcher.py:11: SettingWithCopyWarning: \n",
            "A value is trying to be set on a copy of a slice from a DataFrame.\n",
            "Try using .loc[row_indexer,col_indexer] = value instead\n",
            "\n",
            "See the caveats in the documentation: https://pandas.pydata.org/pandas-docs/stable/user_guide/indexing.html#returning-a-view-versus-a-copy\n",
            "  # This is added back by InteractiveShellApp.init_path()\n",
            "/usr/local/lib/python3.7/dist-packages/ipykernel_launcher.py:12: SettingWithCopyWarning: \n",
            "A value is trying to be set on a copy of a slice from a DataFrame.\n",
            "Try using .loc[row_indexer,col_indexer] = value instead\n",
            "\n",
            "See the caveats in the documentation: https://pandas.pydata.org/pandas-docs/stable/user_guide/indexing.html#returning-a-view-versus-a-copy\n",
            "  if sys.path[0] == '':\n",
            "/usr/local/lib/python3.7/dist-packages/ipykernel_launcher.py:13: SettingWithCopyWarning: \n",
            "A value is trying to be set on a copy of a slice from a DataFrame.\n",
            "Try using .loc[row_indexer,col_indexer] = value instead\n",
            "\n",
            "See the caveats in the documentation: https://pandas.pydata.org/pandas-docs/stable/user_guide/indexing.html#returning-a-view-versus-a-copy\n",
            "  del sys.path[0]\n",
            "/usr/local/lib/python3.7/dist-packages/ipykernel_launcher.py:14: SettingWithCopyWarning: \n",
            "A value is trying to be set on a copy of a slice from a DataFrame.\n",
            "Try using .loc[row_indexer,col_indexer] = value instead\n",
            "\n",
            "See the caveats in the documentation: https://pandas.pydata.org/pandas-docs/stable/user_guide/indexing.html#returning-a-view-versus-a-copy\n",
            "  \n",
            "/usr/local/lib/python3.7/dist-packages/ipykernel_launcher.py:15: SettingWithCopyWarning: \n",
            "A value is trying to be set on a copy of a slice from a DataFrame.\n",
            "Try using .loc[row_indexer,col_indexer] = value instead\n",
            "\n",
            "See the caveats in the documentation: https://pandas.pydata.org/pandas-docs/stable/user_guide/indexing.html#returning-a-view-versus-a-copy\n",
            "  from ipykernel import kernelapp as app\n",
            "/usr/local/lib/python3.7/dist-packages/ipykernel_launcher.py:16: SettingWithCopyWarning: \n",
            "A value is trying to be set on a copy of a slice from a DataFrame.\n",
            "Try using .loc[row_indexer,col_indexer] = value instead\n",
            "\n",
            "See the caveats in the documentation: https://pandas.pydata.org/pandas-docs/stable/user_guide/indexing.html#returning-a-view-versus-a-copy\n",
            "  app.launch_new_instance()\n",
            "/usr/local/lib/python3.7/dist-packages/ipykernel_launcher.py:17: SettingWithCopyWarning: \n",
            "A value is trying to be set on a copy of a slice from a DataFrame.\n",
            "Try using .loc[row_indexer,col_indexer] = value instead\n",
            "\n",
            "See the caveats in the documentation: https://pandas.pydata.org/pandas-docs/stable/user_guide/indexing.html#returning-a-view-versus-a-copy\n",
            "/usr/local/lib/python3.7/dist-packages/ipykernel_launcher.py:18: SettingWithCopyWarning: \n",
            "A value is trying to be set on a copy of a slice from a DataFrame.\n",
            "Try using .loc[row_indexer,col_indexer] = value instead\n",
            "\n",
            "See the caveats in the documentation: https://pandas.pydata.org/pandas-docs/stable/user_guide/indexing.html#returning-a-view-versus-a-copy\n",
            "/usr/local/lib/python3.7/dist-packages/ipykernel_launcher.py:19: SettingWithCopyWarning: \n",
            "A value is trying to be set on a copy of a slice from a DataFrame.\n",
            "Try using .loc[row_indexer,col_indexer] = value instead\n",
            "\n",
            "See the caveats in the documentation: https://pandas.pydata.org/pandas-docs/stable/user_guide/indexing.html#returning-a-view-versus-a-copy\n",
            "/usr/local/lib/python3.7/dist-packages/ipykernel_launcher.py:20: SettingWithCopyWarning: \n",
            "A value is trying to be set on a copy of a slice from a DataFrame.\n",
            "Try using .loc[row_indexer,col_indexer] = value instead\n",
            "\n",
            "See the caveats in the documentation: https://pandas.pydata.org/pandas-docs/stable/user_guide/indexing.html#returning-a-view-versus-a-copy\n"
          ],
          "name": "stderr"
        }
      ]
    },
    {
      "cell_type": "code",
      "metadata": {
        "colab": {
          "base_uri": "https://localhost:8080/",
          "height": 410
        },
        "id": "_ejXmjJUCWS9",
        "outputId": "1f309ba2-206b-43cb-880b-0abd653e7825"
      },
      "source": [
        "df1"
      ],
      "execution_count": null,
      "outputs": [
        {
          "output_type": "execute_result",
          "data": {
            "text/html": [
              "<div>\n",
              "<style scoped>\n",
              "    .dataframe tbody tr th:only-of-type {\n",
              "        vertical-align: middle;\n",
              "    }\n",
              "\n",
              "    .dataframe tbody tr th {\n",
              "        vertical-align: top;\n",
              "    }\n",
              "\n",
              "    .dataframe thead th {\n",
              "        text-align: right;\n",
              "    }\n",
              "</style>\n",
              "<table border=\"1\" class=\"dataframe\">\n",
              "  <thead>\n",
              "    <tr style=\"text-align: right;\">\n",
              "      <th></th>\n",
              "      <th>full_text</th>\n",
              "    </tr>\n",
              "  </thead>\n",
              "  <tbody>\n",
              "    <tr>\n",
              "      <th>1</th>\n",
              "      <td>i didn t listen to tiktok and didn t move my a...</td>\n",
              "    </tr>\n",
              "    <tr>\n",
              "      <th>2</th>\n",
              "      <td>feel good tuesday farmers from across south af...</td>\n",
              "    </tr>\n",
              "    <tr>\n",
              "      <th>3</th>\n",
              "      <td>defer vaccine shots for covid infected by up t...</td>\n",
              "    </tr>\n",
              "    <tr>\n",
              "      <th>4</th>\n",
              "      <td>pakistan receives 1 million doses of sinovac c...</td>\n",
              "    </tr>\n",
              "    <tr>\n",
              "      <th>5</th>\n",
              "      <td>covid news live vaccine invites for  year olds...</td>\n",
              "    </tr>\n",
              "    <tr>\n",
              "      <th>...</th>\n",
              "      <td>...</td>\n",
              "    </tr>\n",
              "    <tr>\n",
              "      <th>27889</th>\n",
              "      <td>fighting for our lives va minority clinicians ...</td>\n",
              "    </tr>\n",
              "    <tr>\n",
              "      <th>27890</th>\n",
              "      <td>inject this sunday lineup into my veins like i...</td>\n",
              "    </tr>\n",
              "    <tr>\n",
              "      <th>27891</th>\n",
              "      <td>covid vaccination is a safer way to help build...</td>\n",
              "    </tr>\n",
              "    <tr>\n",
              "      <th>27892</th>\n",
              "      <td>vaccine update daily figures on the total numb...</td>\n",
              "    </tr>\n",
              "    <tr>\n",
              "      <th>27893</th>\n",
              "      <td>has impacted every school in the country but a...</td>\n",
              "    </tr>\n",
              "  </tbody>\n",
              "</table>\n",
              "<p>27893 rows × 1 columns</p>\n",
              "</div>"
            ],
            "text/plain": [
              "                                               full_text\n",
              "1      i didn t listen to tiktok and didn t move my a...\n",
              "2      feel good tuesday farmers from across south af...\n",
              "3      defer vaccine shots for covid infected by up t...\n",
              "4      pakistan receives 1 million doses of sinovac c...\n",
              "5      covid news live vaccine invites for  year olds...\n",
              "...                                                  ...\n",
              "27889  fighting for our lives va minority clinicians ...\n",
              "27890  inject this sunday lineup into my veins like i...\n",
              "27891  covid vaccination is a safer way to help build...\n",
              "27892  vaccine update daily figures on the total numb...\n",
              "27893  has impacted every school in the country but a...\n",
              "\n",
              "[27893 rows x 1 columns]"
            ]
          },
          "metadata": {
            "tags": []
          },
          "execution_count": 97
        }
      ]
    },
    {
      "cell_type": "markdown",
      "metadata": {
        "id": "qlCG3SntDbiS"
      },
      "source": [
        "tokenizing the words"
      ]
    },
    {
      "cell_type": "code",
      "metadata": {
        "colab": {
          "base_uri": "https://localhost:8080/",
          "height": 327
        },
        "id": "gX40YBWlChFo",
        "outputId": "23922180-5fcd-4926-de9f-093a31186901"
      },
      "source": [
        "df1[\"full_text\"]=df1[\"full_text\"].apply(lambda x:word_tokenize(x))\n",
        "df1.head()"
      ],
      "execution_count": null,
      "outputs": [
        {
          "output_type": "stream",
          "text": [
            "/usr/local/lib/python3.7/dist-packages/ipykernel_launcher.py:1: SettingWithCopyWarning: \n",
            "A value is trying to be set on a copy of a slice from a DataFrame.\n",
            "Try using .loc[row_indexer,col_indexer] = value instead\n",
            "\n",
            "See the caveats in the documentation: https://pandas.pydata.org/pandas-docs/stable/user_guide/indexing.html#returning-a-view-versus-a-copy\n",
            "  \"\"\"Entry point for launching an IPython kernel.\n"
          ],
          "name": "stderr"
        },
        {
          "output_type": "execute_result",
          "data": {
            "text/html": [
              "<div>\n",
              "<style scoped>\n",
              "    .dataframe tbody tr th:only-of-type {\n",
              "        vertical-align: middle;\n",
              "    }\n",
              "\n",
              "    .dataframe tbody tr th {\n",
              "        vertical-align: top;\n",
              "    }\n",
              "\n",
              "    .dataframe thead th {\n",
              "        text-align: right;\n",
              "    }\n",
              "</style>\n",
              "<table border=\"1\" class=\"dataframe\">\n",
              "  <thead>\n",
              "    <tr style=\"text-align: right;\">\n",
              "      <th></th>\n",
              "      <th>full_text</th>\n",
              "    </tr>\n",
              "  </thead>\n",
              "  <tbody>\n",
              "    <tr>\n",
              "      <th>1</th>\n",
              "      <td>[i, didn, t, listen, to, tiktok, and, didn, t,...</td>\n",
              "    </tr>\n",
              "    <tr>\n",
              "      <th>2</th>\n",
              "      <td>[feel, good, tuesday, farmers, from, across, s...</td>\n",
              "    </tr>\n",
              "    <tr>\n",
              "      <th>3</th>\n",
              "      <td>[defer, vaccine, shots, for, covid, infected, ...</td>\n",
              "    </tr>\n",
              "    <tr>\n",
              "      <th>4</th>\n",
              "      <td>[pakistan, receives, 1, million, doses, of, si...</td>\n",
              "    </tr>\n",
              "    <tr>\n",
              "      <th>5</th>\n",
              "      <td>[covid, news, live, vaccine, invites, for, yea...</td>\n",
              "    </tr>\n",
              "  </tbody>\n",
              "</table>\n",
              "</div>"
            ],
            "text/plain": [
              "                                           full_text\n",
              "1  [i, didn, t, listen, to, tiktok, and, didn, t,...\n",
              "2  [feel, good, tuesday, farmers, from, across, s...\n",
              "3  [defer, vaccine, shots, for, covid, infected, ...\n",
              "4  [pakistan, receives, 1, million, doses, of, si...\n",
              "5  [covid, news, live, vaccine, invites, for, yea..."
            ]
          },
          "metadata": {
            "tags": []
          },
          "execution_count": 98
        }
      ]
    },
    {
      "cell_type": "markdown",
      "metadata": {
        "id": "bRaxNQ5sDgKZ"
      },
      "source": [
        "- removing stop words"
      ]
    },
    {
      "cell_type": "code",
      "metadata": {
        "colab": {
          "base_uri": "https://localhost:8080/"
        },
        "id": "NRdmBl_45gSR",
        "outputId": "ec17ae1a-2504-4c6e-f61f-cf7a44c73dea"
      },
      "source": [
        "from nltk.corpus import stopwords\n",
        "stopword=set(stopwords.words(\"english\"))\n",
        "df1[\"full_text\"]=df1[\"full_text\"].apply(lambda x: [item for item in x if item not in stopword])"
      ],
      "execution_count": null,
      "outputs": [
        {
          "output_type": "stream",
          "text": [
            "/usr/local/lib/python3.7/dist-packages/ipykernel_launcher.py:3: SettingWithCopyWarning: \n",
            "A value is trying to be set on a copy of a slice from a DataFrame.\n",
            "Try using .loc[row_indexer,col_indexer] = value instead\n",
            "\n",
            "See the caveats in the documentation: https://pandas.pydata.org/pandas-docs/stable/user_guide/indexing.html#returning-a-view-versus-a-copy\n",
            "  This is separate from the ipykernel package so we can avoid doing imports until\n"
          ],
          "name": "stderr"
        }
      ]
    },
    {
      "cell_type": "code",
      "metadata": {
        "colab": {
          "base_uri": "https://localhost:8080/",
          "height": 199
        },
        "id": "bZsPDgkb6FNl",
        "outputId": "7896a1df-e9bf-4b1f-94f8-988be118082c"
      },
      "source": [
        "df1.head()"
      ],
      "execution_count": null,
      "outputs": [
        {
          "output_type": "execute_result",
          "data": {
            "text/html": [
              "<div>\n",
              "<style scoped>\n",
              "    .dataframe tbody tr th:only-of-type {\n",
              "        vertical-align: middle;\n",
              "    }\n",
              "\n",
              "    .dataframe tbody tr th {\n",
              "        vertical-align: top;\n",
              "    }\n",
              "\n",
              "    .dataframe thead th {\n",
              "        text-align: right;\n",
              "    }\n",
              "</style>\n",
              "<table border=\"1\" class=\"dataframe\">\n",
              "  <thead>\n",
              "    <tr style=\"text-align: right;\">\n",
              "      <th></th>\n",
              "      <th>full_text</th>\n",
              "    </tr>\n",
              "  </thead>\n",
              "  <tbody>\n",
              "    <tr>\n",
              "      <th>1</th>\n",
              "      <td>[listen, tiktok, move, arm, covid, vaccine, ma...</td>\n",
              "    </tr>\n",
              "    <tr>\n",
              "      <th>2</th>\n",
              "      <td>[feel, good, tuesday, farmers, across, south, ...</td>\n",
              "    </tr>\n",
              "    <tr>\n",
              "      <th>3</th>\n",
              "      <td>[defer, vaccine, shots, covid, infected, 9, mo...</td>\n",
              "    </tr>\n",
              "    <tr>\n",
              "      <th>4</th>\n",
              "      <td>[pakistan, receives, 1, million, doses, sinova...</td>\n",
              "    </tr>\n",
              "    <tr>\n",
              "      <th>5</th>\n",
              "      <td>[covid, news, live, vaccine, invites, year, ol...</td>\n",
              "    </tr>\n",
              "  </tbody>\n",
              "</table>\n",
              "</div>"
            ],
            "text/plain": [
              "                                           full_text\n",
              "1  [listen, tiktok, move, arm, covid, vaccine, ma...\n",
              "2  [feel, good, tuesday, farmers, across, south, ...\n",
              "3  [defer, vaccine, shots, covid, infected, 9, mo...\n",
              "4  [pakistan, receives, 1, million, doses, sinova...\n",
              "5  [covid, news, live, vaccine, invites, year, ol..."
            ]
          },
          "metadata": {
            "tags": []
          },
          "execution_count": 101
        }
      ]
    },
    {
      "cell_type": "markdown",
      "metadata": {
        "id": "81tXl1psDkae"
      },
      "source": [
        "- lemmatizing words"
      ]
    },
    {
      "cell_type": "code",
      "metadata": {
        "colab": {
          "base_uri": "https://localhost:8080/"
        },
        "id": "d13P_LvkHIZc",
        "outputId": "f9aa795b-9a19-4f8e-9a47-79bd4835c101"
      },
      "source": [
        "lemmatizer = WordNetLemmatizer()\n",
        "df1[\"full_text\"] = df1[\"full_text\"].apply(lambda x:[w for w in x if w in lemmatizer.lemmatize(w)])\n",
        "# Remove characters which have length less than 2  \n",
        "df1[\"full_text\"] = df1[\"full_text\"].apply(lambda x:[word for word in x if len(word) > 2])\n",
        "# Remove numbers\n",
        "df1[\"full_text\"] = df1[\"full_text\"].apply(lambda x:[word for word in x if not word.isnumeric()])"
      ],
      "execution_count": null,
      "outputs": [
        {
          "output_type": "stream",
          "text": [
            "/usr/local/lib/python3.7/dist-packages/ipykernel_launcher.py:2: SettingWithCopyWarning: \n",
            "A value is trying to be set on a copy of a slice from a DataFrame.\n",
            "Try using .loc[row_indexer,col_indexer] = value instead\n",
            "\n",
            "See the caveats in the documentation: https://pandas.pydata.org/pandas-docs/stable/user_guide/indexing.html#returning-a-view-versus-a-copy\n",
            "  \n",
            "/usr/local/lib/python3.7/dist-packages/ipykernel_launcher.py:4: SettingWithCopyWarning: \n",
            "A value is trying to be set on a copy of a slice from a DataFrame.\n",
            "Try using .loc[row_indexer,col_indexer] = value instead\n",
            "\n",
            "See the caveats in the documentation: https://pandas.pydata.org/pandas-docs/stable/user_guide/indexing.html#returning-a-view-versus-a-copy\n",
            "  after removing the cwd from sys.path.\n",
            "/usr/local/lib/python3.7/dist-packages/ipykernel_launcher.py:6: SettingWithCopyWarning: \n",
            "A value is trying to be set on a copy of a slice from a DataFrame.\n",
            "Try using .loc[row_indexer,col_indexer] = value instead\n",
            "\n",
            "See the caveats in the documentation: https://pandas.pydata.org/pandas-docs/stable/user_guide/indexing.html#returning-a-view-versus-a-copy\n",
            "  \n"
          ],
          "name": "stderr"
        }
      ]
    },
    {
      "cell_type": "markdown",
      "metadata": {
        "id": "MXx0i-X4DpSa"
      },
      "source": [
        "- pos tag"
      ]
    },
    {
      "cell_type": "code",
      "metadata": {
        "colab": {
          "base_uri": "https://localhost:8080/"
        },
        "id": "OsCAQmg_dOfS",
        "outputId": "ce4331a8-ab49-41da-b352-b6545db50ebf"
      },
      "source": [
        "pos=neg=obj=count=0\n",
        "df1[\"pos\"]=df1[\"full_text\"].apply(lambda x:nltk.pos_tag(x))"
      ],
      "execution_count": null,
      "outputs": [
        {
          "output_type": "stream",
          "text": [
            "/usr/local/lib/python3.7/dist-packages/ipykernel_launcher.py:2: SettingWithCopyWarning: \n",
            "A value is trying to be set on a copy of a slice from a DataFrame.\n",
            "Try using .loc[row_indexer,col_indexer] = value instead\n",
            "\n",
            "See the caveats in the documentation: https://pandas.pydata.org/pandas-docs/stable/user_guide/indexing.html#returning-a-view-versus-a-copy\n",
            "  \n"
          ],
          "name": "stderr"
        }
      ]
    },
    {
      "cell_type": "code",
      "metadata": {
        "colab": {
          "base_uri": "https://localhost:8080/",
          "height": 410
        },
        "id": "83fJm7-OKRKn",
        "outputId": "0711c6a3-1c88-4b26-8a77-6783a967c41d"
      },
      "source": [
        "df1"
      ],
      "execution_count": null,
      "outputs": [
        {
          "output_type": "execute_result",
          "data": {
            "text/html": [
              "<div>\n",
              "<style scoped>\n",
              "    .dataframe tbody tr th:only-of-type {\n",
              "        vertical-align: middle;\n",
              "    }\n",
              "\n",
              "    .dataframe tbody tr th {\n",
              "        vertical-align: top;\n",
              "    }\n",
              "\n",
              "    .dataframe thead th {\n",
              "        text-align: right;\n",
              "    }\n",
              "</style>\n",
              "<table border=\"1\" class=\"dataframe\">\n",
              "  <thead>\n",
              "    <tr style=\"text-align: right;\">\n",
              "      <th></th>\n",
              "      <th>full_text</th>\n",
              "      <th>pos</th>\n",
              "    </tr>\n",
              "  </thead>\n",
              "  <tbody>\n",
              "    <tr>\n",
              "      <th>1</th>\n",
              "      <td>[listen, tiktok, move, arm, covid, vaccine, many]</td>\n",
              "      <td>[(listen, JJ), (tiktok, JJ), (move, NN), (arm,...</td>\n",
              "    </tr>\n",
              "    <tr>\n",
              "      <th>2</th>\n",
              "      <td>[feel, good, tuesday, across, south, africa, p...</td>\n",
              "      <td>[(feel, VB), (good, JJ), (tuesday, NN), (acros...</td>\n",
              "    </tr>\n",
              "    <tr>\n",
              "      <th>3</th>\n",
              "      <td>[defer, vaccine, covid, infected, hey, got, re...</td>\n",
              "      <td>[(defer, NN), (vaccine, NN), (covid, NN), (inf...</td>\n",
              "    </tr>\n",
              "    <tr>\n",
              "      <th>4</th>\n",
              "      <td>[pakistan, receives, million, sinovac, covid, ...</td>\n",
              "      <td>[(pakistan, JJ), (receives, NNS), (million, CD...</td>\n",
              "    </tr>\n",
              "    <tr>\n",
              "      <th>5</th>\n",
              "      <td>[covid, news, live, vaccine, year, arrive, tod...</td>\n",
              "      <td>[(covid, JJ), (news, NN), (live, CD), (vaccine...</td>\n",
              "    </tr>\n",
              "    <tr>\n",
              "      <th>...</th>\n",
              "      <td>...</td>\n",
              "      <td>...</td>\n",
              "    </tr>\n",
              "    <tr>\n",
              "      <th>27889</th>\n",
              "      <td>[fighting, minority, talk, covid, vaccine]</td>\n",
              "      <td>[(fighting, VBG), (minority, NN), (talk, NN), ...</td>\n",
              "    </tr>\n",
              "    <tr>\n",
              "      <th>27890</th>\n",
              "      <td>[inject, sunday, lineup, like, covid, vaccine]</td>\n",
              "      <td>[(inject, JJ), (sunday, JJ), (lineup, NN), (li...</td>\n",
              "    </tr>\n",
              "    <tr>\n",
              "      <th>27891</th>\n",
              "      <td>[covid, vaccination, safer, way, help, build, ...</td>\n",
              "      <td>[(covid, JJ), (vaccination, NN), (safer, VB), ...</td>\n",
              "    </tr>\n",
              "    <tr>\n",
              "      <th>27892</th>\n",
              "      <td>[vaccine, update, daily, total, number, covid,...</td>\n",
              "      <td>[(vaccine, NN), (update, JJ), (daily, JJ), (to...</td>\n",
              "    </tr>\n",
              "    <tr>\n",
              "      <th>27893</th>\n",
              "      <td>[impacted, every, school, country, alabama, st...</td>\n",
              "      <td>[(impacted, VBN), (every, DT), (school, NN), (...</td>\n",
              "    </tr>\n",
              "  </tbody>\n",
              "</table>\n",
              "<p>27893 rows × 2 columns</p>\n",
              "</div>"
            ],
            "text/plain": [
              "                                               full_text                                                pos\n",
              "1      [listen, tiktok, move, arm, covid, vaccine, many]  [(listen, JJ), (tiktok, JJ), (move, NN), (arm,...\n",
              "2      [feel, good, tuesday, across, south, africa, p...  [(feel, VB), (good, JJ), (tuesday, NN), (acros...\n",
              "3      [defer, vaccine, covid, infected, hey, got, re...  [(defer, NN), (vaccine, NN), (covid, NN), (inf...\n",
              "4      [pakistan, receives, million, sinovac, covid, ...  [(pakistan, JJ), (receives, NNS), (million, CD...\n",
              "5      [covid, news, live, vaccine, year, arrive, tod...  [(covid, JJ), (news, NN), (live, CD), (vaccine...\n",
              "...                                                  ...                                                ...\n",
              "27889         [fighting, minority, talk, covid, vaccine]  [(fighting, VBG), (minority, NN), (talk, NN), ...\n",
              "27890     [inject, sunday, lineup, like, covid, vaccine]  [(inject, JJ), (sunday, JJ), (lineup, NN), (li...\n",
              "27891  [covid, vaccination, safer, way, help, build, ...  [(covid, JJ), (vaccination, NN), (safer, VB), ...\n",
              "27892  [vaccine, update, daily, total, number, covid,...  [(vaccine, NN), (update, JJ), (daily, JJ), (to...\n",
              "27893  [impacted, every, school, country, alabama, st...  [(impacted, VBN), (every, DT), (school, NN), (...\n",
              "\n",
              "[27893 rows x 2 columns]"
            ]
          },
          "metadata": {
            "tags": []
          },
          "execution_count": 107
        }
      ]
    },
    {
      "cell_type": "markdown",
      "metadata": {
        "id": "n9k7ZvQbDtxg"
      },
      "source": [
        "- senti_score calculations"
      ]
    },
    {
      "cell_type": "code",
      "metadata": {
        "id": "ddUCY0bkdnyU",
        "colab": {
          "base_uri": "https://localhost:8080/",
          "height": 309
        },
        "outputId": "ba5456b9-c96c-4f4b-be48-0bcd8a5fa69b"
      },
      "source": [
        "def penn_to_wn(tag):\n",
        "    if tag.startswith('J'):\n",
        "        return wn.ADJ\n",
        "    elif tag.startswith('N'):\n",
        "        return wn.NOUN\n",
        "    elif tag.startswith('R'):\n",
        "        return wn.ADV\n",
        "    elif tag.startswith('V'):\n",
        "        return wn.VERB\n",
        "    return None\n",
        "def get_sentiscore(word,tag):\n",
        "      wn_tag = penn_to_wn(tag)\n",
        "    \n",
        "      if wn_tag not in (wn.NOUN, wn.ADJ, wn.ADV):\n",
        "        return []\n",
        "      synsets = wn.synsets(word, pos=wn_tag)\n",
        "      if not synsets:\n",
        "        return []\n",
        "\n",
        "    # Take the first sense, the most common\n",
        "      synset = synsets[0]\n",
        "      swn_synset = swn.senti_synset(synset.name())\n",
        "\n",
        "      return [synset.name(), swn_synset.pos_score(),swn_synset.neg_score(),swn_synset.obj_score()]\n",
        "      pos=neg=obj=count=0\n",
        "senti_score = []\n",
        "for i in df1['pos']:\n",
        "    senti_val = [get_sentiscore(x,y) for (x,y) in i]\n",
        "    for score in senti_val:\n",
        "        try:\n",
        "            pos = pos + score[1]  #positive score is stored at 2nd position\n",
        "            neg = neg + score[2]  #negative score is stored at 3rd position\n",
        "        except:\n",
        "            continue\n",
        "    senti_score.append(pos - neg)\n",
        "    pos=neg=0    \n",
        "    \n",
        "df1['senti_score'] = senti_score\n",
        "df1.head()"
      ],
      "execution_count": null,
      "outputs": [
        {
          "output_type": "stream",
          "text": [
            "/usr/local/lib/python3.7/dist-packages/ipykernel_launcher.py:38: SettingWithCopyWarning: \n",
            "A value is trying to be set on a copy of a slice from a DataFrame.\n",
            "Try using .loc[row_indexer,col_indexer] = value instead\n",
            "\n",
            "See the caveats in the documentation: https://pandas.pydata.org/pandas-docs/stable/user_guide/indexing.html#returning-a-view-versus-a-copy\n"
          ],
          "name": "stderr"
        },
        {
          "output_type": "execute_result",
          "data": {
            "text/html": [
              "<div>\n",
              "<style scoped>\n",
              "    .dataframe tbody tr th:only-of-type {\n",
              "        vertical-align: middle;\n",
              "    }\n",
              "\n",
              "    .dataframe tbody tr th {\n",
              "        vertical-align: top;\n",
              "    }\n",
              "\n",
              "    .dataframe thead th {\n",
              "        text-align: right;\n",
              "    }\n",
              "</style>\n",
              "<table border=\"1\" class=\"dataframe\">\n",
              "  <thead>\n",
              "    <tr style=\"text-align: right;\">\n",
              "      <th></th>\n",
              "      <th>full_text</th>\n",
              "      <th>pos</th>\n",
              "      <th>senti_score</th>\n",
              "    </tr>\n",
              "  </thead>\n",
              "  <tbody>\n",
              "    <tr>\n",
              "      <th>1</th>\n",
              "      <td>[listen, tiktok, move, arm, covid, vaccine, many]</td>\n",
              "      <td>[(listen, JJ), (tiktok, JJ), (move, NN), (arm,...</td>\n",
              "      <td>0.000</td>\n",
              "    </tr>\n",
              "    <tr>\n",
              "      <th>2</th>\n",
              "      <td>[feel, good, tuesday, across, south, africa, p...</td>\n",
              "      <td>[(feel, VB), (good, JJ), (tuesday, NN), (acros...</td>\n",
              "      <td>1.250</td>\n",
              "    </tr>\n",
              "    <tr>\n",
              "      <th>3</th>\n",
              "      <td>[defer, vaccine, covid, infected, hey, got, re...</td>\n",
              "      <td>[(defer, NN), (vaccine, NN), (covid, NN), (inf...</td>\n",
              "      <td>0.125</td>\n",
              "    </tr>\n",
              "    <tr>\n",
              "      <th>4</th>\n",
              "      <td>[pakistan, receives, million, sinovac, covid, ...</td>\n",
              "      <td>[(pakistan, JJ), (receives, NNS), (million, CD...</td>\n",
              "      <td>0.000</td>\n",
              "    </tr>\n",
              "    <tr>\n",
              "      <th>5</th>\n",
              "      <td>[covid, news, live, vaccine, year, arrive, tod...</td>\n",
              "      <td>[(covid, JJ), (news, NN), (live, CD), (vaccine...</td>\n",
              "      <td>0.375</td>\n",
              "    </tr>\n",
              "  </tbody>\n",
              "</table>\n",
              "</div>"
            ],
            "text/plain": [
              "                                           full_text  ... senti_score\n",
              "1  [listen, tiktok, move, arm, covid, vaccine, many]  ...       0.000\n",
              "2  [feel, good, tuesday, across, south, africa, p...  ...       1.250\n",
              "3  [defer, vaccine, covid, infected, hey, got, re...  ...       0.125\n",
              "4  [pakistan, receives, million, sinovac, covid, ...  ...       0.000\n",
              "5  [covid, news, live, vaccine, year, arrive, tod...  ...       0.375\n",
              "\n",
              "[5 rows x 3 columns]"
            ]
          },
          "metadata": {
            "tags": []
          },
          "execution_count": 110
        }
      ]
    },
    {
      "cell_type": "markdown",
      "metadata": {
        "id": "JdZWpnNkD1w0"
      },
      "source": [
        "- labelling the score as neutral, positive and negative"
      ]
    },
    {
      "cell_type": "code",
      "metadata": {
        "colab": {
          "base_uri": "https://localhost:8080/",
          "height": 327
        },
        "id": "2LD3GgAdsTCw",
        "outputId": "d5d5b0d8-e863-4ba9-aebe-282a823bf92a"
      },
      "source": [
        "overall=[]\n",
        "for i in range(1,len(df1)+1):\n",
        "    if df1['senti_score'][i]>= 0.05:\n",
        "        overall.append('Positive')\n",
        "    elif df1['senti_score'][i]<= -0.05:\n",
        "        overall.append('Negative')\n",
        "    else:\n",
        "        overall.append('Neutral')\n",
        "df1[\"overall\"]=overall\n",
        "df1.head()"
      ],
      "execution_count": null,
      "outputs": [
        {
          "output_type": "stream",
          "text": [
            "/usr/local/lib/python3.7/dist-packages/ipykernel_launcher.py:9: SettingWithCopyWarning: \n",
            "A value is trying to be set on a copy of a slice from a DataFrame.\n",
            "Try using .loc[row_indexer,col_indexer] = value instead\n",
            "\n",
            "See the caveats in the documentation: https://pandas.pydata.org/pandas-docs/stable/user_guide/indexing.html#returning-a-view-versus-a-copy\n",
            "  if __name__ == '__main__':\n"
          ],
          "name": "stderr"
        },
        {
          "output_type": "execute_result",
          "data": {
            "text/html": [
              "<div>\n",
              "<style scoped>\n",
              "    .dataframe tbody tr th:only-of-type {\n",
              "        vertical-align: middle;\n",
              "    }\n",
              "\n",
              "    .dataframe tbody tr th {\n",
              "        vertical-align: top;\n",
              "    }\n",
              "\n",
              "    .dataframe thead th {\n",
              "        text-align: right;\n",
              "    }\n",
              "</style>\n",
              "<table border=\"1\" class=\"dataframe\">\n",
              "  <thead>\n",
              "    <tr style=\"text-align: right;\">\n",
              "      <th></th>\n",
              "      <th>full_text</th>\n",
              "      <th>pos</th>\n",
              "      <th>senti_score</th>\n",
              "      <th>overall</th>\n",
              "    </tr>\n",
              "  </thead>\n",
              "  <tbody>\n",
              "    <tr>\n",
              "      <th>1</th>\n",
              "      <td>[listen, tiktok, move, arm, covid, vaccine, many]</td>\n",
              "      <td>[(listen, JJ), (tiktok, JJ), (move, NN), (arm,...</td>\n",
              "      <td>0.000</td>\n",
              "      <td>Neutral</td>\n",
              "    </tr>\n",
              "    <tr>\n",
              "      <th>2</th>\n",
              "      <td>[feel, good, tuesday, across, south, africa, p...</td>\n",
              "      <td>[(feel, VB), (good, JJ), (tuesday, NN), (acros...</td>\n",
              "      <td>1.250</td>\n",
              "      <td>Positive</td>\n",
              "    </tr>\n",
              "    <tr>\n",
              "      <th>3</th>\n",
              "      <td>[defer, vaccine, covid, infected, hey, got, re...</td>\n",
              "      <td>[(defer, NN), (vaccine, NN), (covid, NN), (inf...</td>\n",
              "      <td>0.125</td>\n",
              "      <td>Positive</td>\n",
              "    </tr>\n",
              "    <tr>\n",
              "      <th>4</th>\n",
              "      <td>[pakistan, receives, million, sinovac, covid, ...</td>\n",
              "      <td>[(pakistan, JJ), (receives, NNS), (million, CD...</td>\n",
              "      <td>0.000</td>\n",
              "      <td>Neutral</td>\n",
              "    </tr>\n",
              "    <tr>\n",
              "      <th>5</th>\n",
              "      <td>[covid, news, live, vaccine, year, arrive, tod...</td>\n",
              "      <td>[(covid, JJ), (news, NN), (live, CD), (vaccine...</td>\n",
              "      <td>0.375</td>\n",
              "      <td>Positive</td>\n",
              "    </tr>\n",
              "  </tbody>\n",
              "</table>\n",
              "</div>"
            ],
            "text/plain": [
              "                                           full_text  ...   overall\n",
              "1  [listen, tiktok, move, arm, covid, vaccine, many]  ...   Neutral\n",
              "2  [feel, good, tuesday, across, south, africa, p...  ...  Positive\n",
              "3  [defer, vaccine, covid, infected, hey, got, re...  ...  Positive\n",
              "4  [pakistan, receives, million, sinovac, covid, ...  ...   Neutral\n",
              "5  [covid, news, live, vaccine, year, arrive, tod...  ...  Positive\n",
              "\n",
              "[5 rows x 4 columns]"
            ]
          },
          "metadata": {
            "tags": []
          },
          "execution_count": 111
        }
      ]
    },
    {
      "cell_type": "markdown",
      "metadata": {
        "id": "rYRsJzVQD8eq"
      },
      "source": [
        "- Visualizing positive words"
      ]
    },
    {
      "cell_type": "code",
      "metadata": {
        "colab": {
          "base_uri": "https://localhost:8080/",
          "height": 198
        },
        "id": "BwZtICINzr6V",
        "outputId": "20005ef3-fa91-4597-953f-526a619a0875"
      },
      "source": [
        "import matplotlib.pyplot as plt\n",
        "#filter the df to one candidate, and create a list of responses from them\n",
        "text = df1[df1.overall=='Positive'].full_text.tolist() \n",
        "# join the list and lowercase all the words\n",
        "text = ' '.join(str(i) for i in text)\n",
        "#create the wordcloud object\n",
        "wordcloud = WordCloud(stopwords=stopword,collocations=True).generate(text)\n",
        "#plot the wordcloud object\n",
        "plt.imshow(wordcloud, interpolation='bilInear')\n",
        "plt.axis('off')\n",
        "plt.show()"
      ],
      "execution_count": null,
      "outputs": [
        {
          "output_type": "display_data",
          "data": {
            "image/png": "[encoded data removed]",
            "text/plain": [
              "<Figure size 432x288 with 1 Axes>"
            ]
          },
          "metadata": {
            "tags": [],
            "needs_background": "light"
          }
        }
      ]
    },
    {
      "cell_type": "markdown",
      "metadata": {
        "id": "HRwNp8GEEEJ4"
      },
      "source": [
        "- visualizing negative words"
      ]
    },
    {
      "cell_type": "code",
      "metadata": {
        "colab": {
          "base_uri": "https://localhost:8080/",
          "height": 198
        },
        "id": "Z7Jqini21ROn",
        "outputId": "7a87eeff-c3a3-4980-bb94-f00b47775f99"
      },
      "source": [
        "#filter the df to one candidate, and create a list of responses from them\n",
        "text = df1[df1.overall=='Negative'].full_text.tolist() \n",
        "\n",
        "# join the list and lowercase all the words\n",
        "text = ' '.join(str(i) for i in text)\n",
        "\n",
        "#create the wordcloud object\n",
        "wordcloud = WordCloud(stopwords = stopword,\n",
        "                      collocations=True).generate(text)\n",
        "\n",
        "#plot the wordcloud object\n",
        "plt.imshow(wordcloud, interpolation='bilInear')\n",
        "plt.axis('off')\n",
        "plt.show()"
      ],
      "execution_count": null,
      "outputs": [
        {
          "output_type": "display_data",
          "data": {
            "image/png": "[encoded data removed]",
            "text/plain": [
              "<Figure size 432x288 with 1 Axes>"
            ]
          },
          "metadata": {
            "tags": [],
            "needs_background": "light"
          }
        }
      ]
    },
    {
      "cell_type": "markdown",
      "metadata": {
        "id": "JJoMP4uBEHTb"
      },
      "source": [
        "- visualizing neutral words"
      ]
    },
    {
      "cell_type": "code",
      "metadata": {
        "id": "yd6F9r6Z1heU",
        "colab": {
          "base_uri": "https://localhost:8080/",
          "height": 198
        },
        "outputId": "812c65cd-2057-47f5-b9e3-86384b47da1e"
      },
      "source": [
        "#filter the df to one candidate, and create a list of responses from them\n",
        "text = df1[df1.overall=='Neutral'].full_text.tolist() \n",
        "# join the list and lowercase all the words\n",
        "text = ' '.join(str(i) for i in text)\n",
        "#create the wordcloud object\n",
        "wordcloud = WordCloud(stopwords = stopword,\n",
        "                      collocations=True).generate(text)\n",
        "#plot the wordcloud object\n",
        "plt.imshow(wordcloud, interpolation='bilInear')\n",
        "plt.axis('off')\n",
        "plt.show()"
      ],
      "execution_count": null,
      "outputs": [
        {
          "output_type": "display_data",
          "data": {
            "image/png": "[encoded data removed]",
            "text/plain": [
              "<Figure size 432x288 with 1 Axes>"
            ]
          },
          "metadata": {
            "tags": [],
            "needs_background": "light"
          }
        }
      ]
    },
    {
      "cell_type": "markdown",
      "metadata": {
        "id": "03xQnzVNEKxv"
      },
      "source": [
        "- overall words visualization"
      ]
    },
    {
      "cell_type": "code",
      "metadata": {
        "id": "QR4LvDyrs_gn",
        "colab": {
          "base_uri": "https://localhost:8080/",
          "height": 353
        },
        "outputId": "1397601c-7adf-40e0-eabc-9d14c15b0336"
      },
      "source": [
        "import seaborn as sns\n",
        "sns.countplot(df1['overall'])"
      ],
      "execution_count": null,
      "outputs": [
        {
          "output_type": "stream",
          "text": [
            "/usr/local/lib/python3.7/dist-packages/seaborn/_decorators.py:43: FutureWarning: Pass the following variable as a keyword arg: x. From version 0.12, the only valid positional argument will be `data`, and passing other arguments without an explicit keyword will result in an error or misinterpretation.\n",
            "  FutureWarning\n"
          ],
          "name": "stderr"
        },
        {
          "output_type": "execute_result",
          "data": {
            "text/plain": [
              "<matplotlib.axes._subplots.AxesSubplot at 0x7f0a0a76f310>"
            ]
          },
          "metadata": {
            "tags": []
          },
          "execution_count": 116
        },
        {
          "output_type": "display_data",
          "data": {
            "image/png": "[encoded data removed]",
            "text/plain": [
              "<Figure size 432x288 with 1 Axes>"
            ]
          },
          "metadata": {
            "tags": [],
            "needs_background": "light"
          }
        }
      ]
    },
    {
      "cell_type": "code",
      "metadata": {
        "id": "LycTQqQlg0Bf",
        "colab": {
          "base_uri": "https://localhost:8080/",
          "height": 307
        },
        "outputId": "a7bafd11-02d8-48d9-adaf-1a75433ed8ca"
      },
      "source": [
        "df1[\"full_text\"]=df1[\"full_text\"].apply(lambda x:' '.join([i+' ' for i in x]))\n",
        "df1.head()"
      ],
      "execution_count": null,
      "outputs": [
        {
          "output_type": "stream",
          "text": [
            "/usr/local/lib/python3.7/dist-packages/ipykernel_launcher.py:1: SettingWithCopyWarning: \n",
            "A value is trying to be set on a copy of a slice from a DataFrame.\n",
            "Try using .loc[row_indexer,col_indexer] = value instead\n",
            "\n",
            "See the caveats in the documentation: https://pandas.pydata.org/pandas-docs/stable/user_guide/indexing.html#returning-a-view-versus-a-copy\n",
            "  \"\"\"Entry point for launching an IPython kernel.\n"
          ],
          "name": "stderr"
        },
        {
          "output_type": "execute_result",
          "data": {
            "text/html": [
              "<div>\n",
              "<style scoped>\n",
              "    .dataframe tbody tr th:only-of-type {\n",
              "        vertical-align: middle;\n",
              "    }\n",
              "\n",
              "    .dataframe tbody tr th {\n",
              "        vertical-align: top;\n",
              "    }\n",
              "\n",
              "    .dataframe thead th {\n",
              "        text-align: right;\n",
              "    }\n",
              "</style>\n",
              "<table border=\"1\" class=\"dataframe\">\n",
              "  <thead>\n",
              "    <tr style=\"text-align: right;\">\n",
              "      <th></th>\n",
              "      <th>full_text</th>\n",
              "      <th>pos</th>\n",
              "      <th>senti_score</th>\n",
              "      <th>overall</th>\n",
              "    </tr>\n",
              "  </thead>\n",
              "  <tbody>\n",
              "    <tr>\n",
              "      <th>1</th>\n",
              "      <td>listen  tiktok  move  arm  covid  vaccine  many</td>\n",
              "      <td>[(listen, JJ), (tiktok, JJ), (move, NN), (arm,...</td>\n",
              "      <td>0.000</td>\n",
              "      <td>Neutral</td>\n",
              "    </tr>\n",
              "    <tr>\n",
              "      <th>2</th>\n",
              "      <td>feel  good  tuesday  across  south  africa  pl...</td>\n",
              "      <td>[(feel, VB), (good, JJ), (tuesday, NN), (acros...</td>\n",
              "      <td>1.250</td>\n",
              "      <td>Positive</td>\n",
              "    </tr>\n",
              "    <tr>\n",
              "      <th>3</th>\n",
              "      <td>defer  vaccine  covid  infected  hey  got  rei...</td>\n",
              "      <td>[(defer, NN), (vaccine, NN), (covid, NN), (inf...</td>\n",
              "      <td>0.125</td>\n",
              "      <td>Positive</td>\n",
              "    </tr>\n",
              "    <tr>\n",
              "      <th>4</th>\n",
              "      <td>pakistan  receives  million  sinovac  covid  v...</td>\n",
              "      <td>[(pakistan, JJ), (receives, NNS), (million, CD...</td>\n",
              "      <td>0.000</td>\n",
              "      <td>Neutral</td>\n",
              "    </tr>\n",
              "    <tr>\n",
              "      <th>5</th>\n",
              "      <td>covid  news  live  vaccine  year  arrive  toda...</td>\n",
              "      <td>[(covid, JJ), (news, NN), (live, CD), (vaccine...</td>\n",
              "      <td>0.375</td>\n",
              "      <td>Positive</td>\n",
              "    </tr>\n",
              "  </tbody>\n",
              "</table>\n",
              "</div>"
            ],
            "text/plain": [
              "                                           full_text  ...   overall\n",
              "1   listen  tiktok  move  arm  covid  vaccine  many   ...   Neutral\n",
              "2  feel  good  tuesday  across  south  africa  pl...  ...  Positive\n",
              "3  defer  vaccine  covid  infected  hey  got  rei...  ...  Positive\n",
              "4  pakistan  receives  million  sinovac  covid  v...  ...   Neutral\n",
              "5  covid  news  live  vaccine  year  arrive  toda...  ...  Positive\n",
              "\n",
              "[5 rows x 4 columns]"
            ]
          },
          "metadata": {
            "tags": []
          },
          "execution_count": 117
        }
      ]
    },
    {
      "cell_type": "markdown",
      "metadata": {
        "id": "LJlEgkuHbO8a"
      },
      "source": [
        "Features engineering \n",
        "\n",
        "- BOW"
      ]
    },
    {
      "cell_type": "code",
      "metadata": {
        "id": "5r550RToKWQ3",
        "colab": {
          "base_uri": "https://localhost:8080/",
          "height": 188
        },
        "outputId": "f0fc9779-06c9-439e-f961-79c6213c9890"
      },
      "source": [
        "# The following code creates a word-document matrix.\n",
        "from sklearn.feature_extraction.text import CountVectorizer\n",
        "vec = CountVectorizer()\n",
        "X = vec.fit_transform(df1[\"full_text\"])\n",
        "bow= pd.DataFrame(X.toarray(), columns = vec.get_feature_names())\n",
        "bow.head(3)"
      ],
      "execution_count": null,
      "outputs": [
        {
          "output_type": "execute_result",
          "data": {
            "text/html": [
              "<div>\n",
              "<style scoped>\n",
              "    .dataframe tbody tr th:only-of-type {\n",
              "        vertical-align: middle;\n",
              "    }\n",
              "\n",
              "    .dataframe tbody tr th {\n",
              "        vertical-align: top;\n",
              "    }\n",
              "\n",
              "    .dataframe thead th {\n",
              "        text-align: right;\n",
              "    }\n",
              "</style>\n",
              "<table border=\"1\" class=\"dataframe\">\n",
              "  <thead>\n",
              "    <tr style=\"text-align: right;\">\n",
              "      <th></th>\n",
              "      <th>aadhaar</th>\n",
              "      <th>aadhar</th>\n",
              "      <th>aajtak</th>\n",
              "      <th>aakp</th>\n",
              "      <th>aamaadmiparty</th>\n",
              "      <th>aanp</th>\n",
              "      <th>aaos1</th>\n",
              "      <th>aap</th>\n",
              "      <th>aapne</th>\n",
              "      <th>aapnews</th>\n",
              "      <th>aaps</th>\n",
              "      <th>aapsonline</th>\n",
              "      <th>aargh</th>\n",
              "      <th>aarogya</th>\n",
              "      <th>aaron</th>\n",
              "      <th>aarp</th>\n",
              "      <th>aayushishah</th>\n",
              "      <th>aback</th>\n",
              "      <th>abad</th>\n",
              "      <th>abandon</th>\n",
              "      <th>abandoned</th>\n",
              "      <th>abandoning</th>\n",
              "      <th>abating</th>\n",
              "      <th>abbashafeez</th>\n",
              "      <th>abbassy</th>\n",
              "      <th>abbott</th>\n",
              "      <th>abby</th>\n",
              "      <th>abc</th>\n",
              "      <th>abc7</th>\n",
              "      <th>abcaustralia</th>\n",
              "      <th>abccollab</th>\n",
              "      <th>abcdarwin</th>\n",
              "      <th>abcmelbourne</th>\n",
              "      <th>abcnews</th>\n",
              "      <th>abctricities</th>\n",
              "      <th>abdul</th>\n",
              "      <th>abdulla</th>\n",
              "      <th>abe</th>\n",
              "      <th>abeg</th>\n",
              "      <th>abegreenwald</th>\n",
              "      <th>...</th>\n",
              "      <th>𝐍𝐚𝐦𝐞</th>\n",
              "      <th>𝐒𝐚𝐯𝐢𝐨𝐮𝐫</th>\n",
              "      <th>𝐠𝐨𝐭</th>\n",
              "      <th>𝐨𝐧𝐞</th>\n",
              "      <th>𝐨𝐧𝐥𝐲</th>\n",
              "      <th>𝐮𝐩𝐝𝐚𝐭𝐞</th>\n",
              "      <th>𝐯𝐚𝐜𝐜𝐢𝐧𝐞</th>\n",
              "      <th>𝗔𝘂𝘁𝗵𝗼𝗿𝘀</th>\n",
              "      <th>𝗔𝘃𝗮𝗶𝗹𝗮𝗯𝗹𝗲</th>\n",
              "      <th>𝗖𝗢𝗩𝗜𝗗</th>\n",
              "      <th>𝗗𝗮𝘆</th>\n",
              "      <th>𝗘𝘂𝗿𝗼𝗽𝗲</th>\n",
              "      <th>𝗡𝗢𝗪</th>\n",
              "      <th>𝗡𝗼𝘄</th>\n",
              "      <th>𝗢𝗳𝗳𝗶𝗰𝗲</th>\n",
              "      <th>𝗢𝘂𝗿</th>\n",
              "      <th>𝗣𝗼𝘀𝘁</th>\n",
              "      <th>𝗧𝗵𝗲</th>\n",
              "      <th>𝗧𝗶𝘁𝗹𝗲</th>\n",
              "      <th>𝗧𝗿𝘂𝘀𝘁𝗲𝗱</th>\n",
              "      <th>𝗩𝗮𝗰𝗰𝗶𝗻𝗲</th>\n",
              "      <th>𝗩𝗼𝗶𝗰𝗲𝘀</th>\n",
              "      <th>𝗮𝗻𝗱</th>\n",
              "      <th>𝗰𝗵𝗮𝗹𝗹𝗲𝗻𝗴𝗲𝘀</th>\n",
              "      <th>𝗳𝗼𝗿</th>\n",
              "      <th>𝗹𝗶𝗰𝗲𝗻𝘀𝘂𝗿𝗲</th>\n",
              "      <th>𝗺𝗼𝗻𝗶𝘁𝗼𝗿𝗶𝗻𝗴</th>\n",
              "      <th>𝘀𝗼𝗹𝘂𝘁𝗶𝗼𝗻𝘀</th>\n",
              "      <th>𝘃𝗮𝗰𝗰𝗶𝗻𝗲</th>\n",
              "      <th>𝘓𝘋𝘏</th>\n",
              "      <th>𝘛𝘩𝘪𝘴</th>\n",
              "      <th>𝘧𝘳𝘰𝘮</th>\n",
              "      <th>𝘪𝘯𝘧𝘰𝘳𝘮𝘢𝘵𝘪𝘰𝘯</th>\n",
              "      <th>𝘳𝘦𝘲𝘶𝘦𝘴𝘵</th>\n",
              "      <th>𝘴𝘩𝘢𝘳𝘦𝘥</th>\n",
              "      <th>𝘵𝘩𝘦</th>\n",
              "      <th>𝘸𝘪𝘵𝘩</th>\n",
              "      <th>𝘺𝘰𝘶</th>\n",
              "      <th>𝙁𝙍𝙀𝙀</th>\n",
              "      <th>𝙏𝙤𝙜𝙚𝙩𝙝𝙚𝙧</th>\n",
              "    </tr>\n",
              "  </thead>\n",
              "  <tbody>\n",
              "    <tr>\n",
              "      <th>0</th>\n",
              "      <td>0</td>\n",
              "      <td>0</td>\n",
              "      <td>0</td>\n",
              "      <td>0</td>\n",
              "      <td>0</td>\n",
              "      <td>0</td>\n",
              "      <td>0</td>\n",
              "      <td>0</td>\n",
              "      <td>0</td>\n",
              "      <td>0</td>\n",
              "      <td>0</td>\n",
              "      <td>0</td>\n",
              "      <td>0</td>\n",
              "      <td>0</td>\n",
              "      <td>0</td>\n",
              "      <td>0</td>\n",
              "      <td>0</td>\n",
              "      <td>0</td>\n",
              "      <td>0</td>\n",
              "      <td>0</td>\n",
              "      <td>0</td>\n",
              "      <td>0</td>\n",
              "      <td>0</td>\n",
              "      <td>0</td>\n",
              "      <td>0</td>\n",
              "      <td>0</td>\n",
              "      <td>0</td>\n",
              "      <td>0</td>\n",
              "      <td>0</td>\n",
              "      <td>0</td>\n",
              "      <td>0</td>\n",
              "      <td>0</td>\n",
              "      <td>0</td>\n",
              "      <td>0</td>\n",
              "      <td>0</td>\n",
              "      <td>0</td>\n",
              "      <td>0</td>\n",
              "      <td>0</td>\n",
              "      <td>0</td>\n",
              "      <td>0</td>\n",
              "      <td>...</td>\n",
              "      <td>0</td>\n",
              "      <td>0</td>\n",
              "      <td>0</td>\n",
              "      <td>0</td>\n",
              "      <td>0</td>\n",
              "      <td>0</td>\n",
              "      <td>0</td>\n",
              "      <td>0</td>\n",
              "      <td>0</td>\n",
              "      <td>0</td>\n",
              "      <td>0</td>\n",
              "      <td>0</td>\n",
              "      <td>0</td>\n",
              "      <td>0</td>\n",
              "      <td>0</td>\n",
              "      <td>0</td>\n",
              "      <td>0</td>\n",
              "      <td>0</td>\n",
              "      <td>0</td>\n",
              "      <td>0</td>\n",
              "      <td>0</td>\n",
              "      <td>0</td>\n",
              "      <td>0</td>\n",
              "      <td>0</td>\n",
              "      <td>0</td>\n",
              "      <td>0</td>\n",
              "      <td>0</td>\n",
              "      <td>0</td>\n",
              "      <td>0</td>\n",
              "      <td>0</td>\n",
              "      <td>0</td>\n",
              "      <td>0</td>\n",
              "      <td>0</td>\n",
              "      <td>0</td>\n",
              "      <td>0</td>\n",
              "      <td>0</td>\n",
              "      <td>0</td>\n",
              "      <td>0</td>\n",
              "      <td>0</td>\n",
              "      <td>0</td>\n",
              "    </tr>\n",
              "    <tr>\n",
              "      <th>1</th>\n",
              "      <td>0</td>\n",
              "      <td>0</td>\n",
              "      <td>0</td>\n",
              "      <td>0</td>\n",
              "      <td>0</td>\n",
              "      <td>0</td>\n",
              "      <td>0</td>\n",
              "      <td>0</td>\n",
              "      <td>0</td>\n",
              "      <td>0</td>\n",
              "      <td>0</td>\n",
              "      <td>0</td>\n",
              "      <td>0</td>\n",
              "      <td>0</td>\n",
              "      <td>0</td>\n",
              "      <td>0</td>\n",
              "      <td>0</td>\n",
              "      <td>0</td>\n",
              "      <td>0</td>\n",
              "      <td>0</td>\n",
              "      <td>0</td>\n",
              "      <td>0</td>\n",
              "      <td>0</td>\n",
              "      <td>0</td>\n",
              "      <td>0</td>\n",
              "      <td>0</td>\n",
              "      <td>0</td>\n",
              "      <td>0</td>\n",
              "      <td>0</td>\n",
              "      <td>0</td>\n",
              "      <td>0</td>\n",
              "      <td>0</td>\n",
              "      <td>0</td>\n",
              "      <td>0</td>\n",
              "      <td>0</td>\n",
              "      <td>0</td>\n",
              "      <td>0</td>\n",
              "      <td>0</td>\n",
              "      <td>0</td>\n",
              "      <td>0</td>\n",
              "      <td>...</td>\n",
              "      <td>0</td>\n",
              "      <td>0</td>\n",
              "      <td>0</td>\n",
              "      <td>0</td>\n",
              "      <td>0</td>\n",
              "      <td>0</td>\n",
              "      <td>0</td>\n",
              "      <td>0</td>\n",
              "      <td>0</td>\n",
              "      <td>0</td>\n",
              "      <td>0</td>\n",
              "      <td>0</td>\n",
              "      <td>0</td>\n",
              "      <td>0</td>\n",
              "      <td>0</td>\n",
              "      <td>0</td>\n",
              "      <td>0</td>\n",
              "      <td>0</td>\n",
              "      <td>0</td>\n",
              "      <td>0</td>\n",
              "      <td>0</td>\n",
              "      <td>0</td>\n",
              "      <td>0</td>\n",
              "      <td>0</td>\n",
              "      <td>0</td>\n",
              "      <td>0</td>\n",
              "      <td>0</td>\n",
              "      <td>0</td>\n",
              "      <td>0</td>\n",
              "      <td>0</td>\n",
              "      <td>0</td>\n",
              "      <td>0</td>\n",
              "      <td>0</td>\n",
              "      <td>0</td>\n",
              "      <td>0</td>\n",
              "      <td>0</td>\n",
              "      <td>0</td>\n",
              "      <td>0</td>\n",
              "      <td>0</td>\n",
              "      <td>0</td>\n",
              "    </tr>\n",
              "    <tr>\n",
              "      <th>2</th>\n",
              "      <td>0</td>\n",
              "      <td>0</td>\n",
              "      <td>0</td>\n",
              "      <td>0</td>\n",
              "      <td>0</td>\n",
              "      <td>0</td>\n",
              "      <td>0</td>\n",
              "      <td>0</td>\n",
              "      <td>0</td>\n",
              "      <td>0</td>\n",
              "      <td>0</td>\n",
              "      <td>0</td>\n",
              "      <td>0</td>\n",
              "      <td>0</td>\n",
              "      <td>0</td>\n",
              "      <td>0</td>\n",
              "      <td>0</td>\n",
              "      <td>0</td>\n",
              "      <td>0</td>\n",
              "      <td>0</td>\n",
              "      <td>0</td>\n",
              "      <td>0</td>\n",
              "      <td>0</td>\n",
              "      <td>0</td>\n",
              "      <td>0</td>\n",
              "      <td>0</td>\n",
              "      <td>0</td>\n",
              "      <td>0</td>\n",
              "      <td>0</td>\n",
              "      <td>0</td>\n",
              "      <td>0</td>\n",
              "      <td>0</td>\n",
              "      <td>0</td>\n",
              "      <td>0</td>\n",
              "      <td>0</td>\n",
              "      <td>0</td>\n",
              "      <td>0</td>\n",
              "      <td>0</td>\n",
              "      <td>0</td>\n",
              "      <td>0</td>\n",
              "      <td>...</td>\n",
              "      <td>0</td>\n",
              "      <td>0</td>\n",
              "      <td>0</td>\n",
              "      <td>0</td>\n",
              "      <td>0</td>\n",
              "      <td>0</td>\n",
              "      <td>0</td>\n",
              "      <td>0</td>\n",
              "      <td>0</td>\n",
              "      <td>0</td>\n",
              "      <td>0</td>\n",
              "      <td>0</td>\n",
              "      <td>0</td>\n",
              "      <td>0</td>\n",
              "      <td>0</td>\n",
              "      <td>0</td>\n",
              "      <td>0</td>\n",
              "      <td>0</td>\n",
              "      <td>0</td>\n",
              "      <td>0</td>\n",
              "      <td>0</td>\n",
              "      <td>0</td>\n",
              "      <td>0</td>\n",
              "      <td>0</td>\n",
              "      <td>0</td>\n",
              "      <td>0</td>\n",
              "      <td>0</td>\n",
              "      <td>0</td>\n",
              "      <td>0</td>\n",
              "      <td>0</td>\n",
              "      <td>0</td>\n",
              "      <td>0</td>\n",
              "      <td>0</td>\n",
              "      <td>0</td>\n",
              "      <td>0</td>\n",
              "      <td>0</td>\n",
              "      <td>0</td>\n",
              "      <td>0</td>\n",
              "      <td>0</td>\n",
              "      <td>0</td>\n",
              "    </tr>\n",
              "  </tbody>\n",
              "</table>\n",
              "<p>3 rows × 15942 columns</p>\n",
              "</div>"
            ],
            "text/plain": [
              "   aadhaar  aadhar  aajtak  aakp  aamaadmiparty  ...  𝘵𝘩𝘦  𝘸𝘪𝘵𝘩  𝘺𝘰𝘶  𝙁𝙍𝙀𝙀  𝙏𝙤𝙜𝙚𝙩𝙝𝙚𝙧\n",
              "0        0       0       0     0              0  ...    0     0    0     0         0\n",
              "1        0       0       0     0              0  ...    0     0    0     0         0\n",
              "2        0       0       0     0              0  ...    0     0    0     0         0\n",
              "\n",
              "[3 rows x 15942 columns]"
            ]
          },
          "metadata": {
            "tags": []
          },
          "execution_count": 119
        }
      ]
    },
    {
      "cell_type": "code",
      "metadata": {
        "id": "k5-SnJSSecFC",
        "colab": {
          "base_uri": "https://localhost:8080/"
        },
        "outputId": "ee267346-92ca-4bd2-8f7b-33320dde52b3"
      },
      "source": [
        "vect = CountVectorizer()\n",
        "vect.fit(df1[\"full_text\"])\n",
        "vect.get_feature_names()\n",
        "# transform training data into a 'document-term matrix'\n",
        "simple_train_dtm = vect.transform(df1[\"full_text\"])\n",
        "print(simple_train_dtm)\n",
        "### Creating a python object of the class CountVectorizer\n",
        "from sklearn.feature_extraction.text import CountVectorizer\n",
        "bow_counts = CountVectorizer(tokenizer= word_tokenize, # type of tokenization\n",
        "                             ngram_range=(1,3)) # number of n-grams\n",
        "\n",
        "bow_data = bow_counts.fit_transform(df1[\"full_text\"])"
      ],
      "execution_count": null,
      "outputs": [
        {
          "output_type": "stream",
          "text": [
            "  (0, 811)\t1\n",
            "  (0, 3212)\t1\n",
            "  (0, 8212)\t1\n",
            "  (0, 8593)\t1\n",
            "  (0, 9241)\t1\n",
            "  (0, 14195)\t1\n",
            "  (0, 14957)\t1\n",
            "  (1, 149)\t1\n",
            "  (1, 276)\t1\n",
            "  (1, 906)\t1\n",
            "  (1, 3212)\t1\n",
            "  (1, 5151)\t1\n",
            "  (1, 5731)\t1\n",
            "  (1, 5857)\t1\n",
            "  (1, 5893)\t1\n",
            "  (1, 9998)\t1\n",
            "  (1, 10693)\t1\n",
            "  (1, 10717)\t1\n",
            "  (1, 13145)\t1\n",
            "  (1, 13529)\t1\n",
            "  (1, 14495)\t1\n",
            "  (1, 14895)\t1\n",
            "  (1, 14957)\t1\n",
            "  (2, 214)\t1\n",
            "  (2, 3212)\t1\n",
            "  :\t:\n",
            "  (27891, 3431)\t1\n",
            "  (27891, 3490)\t1\n",
            "  (27891, 5771)\t2\n",
            "  (27891, 7014)\t1\n",
            "  (27891, 8713)\t1\n",
            "  (27891, 9809)\t1\n",
            "  (27891, 10557)\t1\n",
            "  (27891, 14307)\t1\n",
            "  (27891, 14837)\t1\n",
            "  (27891, 14957)\t3\n",
            "  (27891, 15172)\t1\n",
            "  (27892, 370)\t1\n",
            "  (27892, 1032)\t1\n",
            "  (27892, 3183)\t1\n",
            "  (27892, 4616)\t1\n",
            "  (27892, 4830)\t1\n",
            "  (27892, 4833)\t1\n",
            "  (27892, 6331)\t1\n",
            "  (27892, 6840)\t1\n",
            "  (27892, 11863)\t1\n",
            "  (27892, 12420)\t1\n",
            "  (27892, 12805)\t1\n",
            "  (27892, 13350)\t1\n",
            "  (27892, 14743)\t1\n",
            "  (27892, 14957)\t1\n"
          ],
          "name": "stdout"
        }
      ]
    },
    {
      "cell_type": "markdown",
      "metadata": {
        "id": "5rLOX7d1ESVi"
      },
      "source": [
        "- splitting of data"
      ]
    },
    {
      "cell_type": "code",
      "metadata": {
        "id": "8hTw1uMopObh"
      },
      "source": [
        "from sklearn.model_selection import train_test_split\n",
        "X_train_bow, X_test_bow, y_train_bow, y_test_bow = train_test_split(bow_data, # Features,\n",
        "                                                                    df1[\"overall\"],\n",
        "                                                          # Target variable\n",
        "                                                                    test_size = 0.3, # test size\n",
        "                                                                    random_state = 0) # random"
      ],
      "execution_count": null,
      "outputs": []
    },
    {
      "cell_type": "markdown",
      "metadata": {
        "id": "cOHKCuTcEWOT"
      },
      "source": [
        "- logistic regression"
      ]
    },
    {
      "cell_type": "code",
      "metadata": {
        "id": "lKzj-gfQrZTR",
        "colab": {
          "base_uri": "https://localhost:8080/"
        },
        "outputId": "bd353893-bf37-431d-afcd-ef8319472061"
      },
      "source": [
        "from sklearn.linear_model import LogisticRegression\n",
        "### Training the model \n",
        "lr_model_all = LogisticRegression() # Logistic regression\n",
        "lr_model_all.fit(X_train_bow, y_train_bow) # Fitting a logistic regression model\n",
        "## Predicting the output\n",
        "test_pred_lr_all = lr_model_all.predict(X_test_bow)"
      ],
      "execution_count": null,
      "outputs": [
        {
          "output_type": "stream",
          "text": [
            "/usr/local/lib/python3.7/dist-packages/sklearn/linear_model/_logistic.py:940: ConvergenceWarning: lbfgs failed to converge (status=1):\n",
            "STOP: TOTAL NO. of ITERATIONS REACHED LIMIT.\n",
            "\n",
            "Increase the number of iterations (max_iter) or scale the data as shown in:\n",
            "    https://scikit-learn.org/stable/modules/preprocessing.html\n",
            "Please also refer to the documentation for alternative solver options:\n",
            "    https://scikit-learn.org/stable/modules/linear_model.html#logistic-regression\n",
            "  extra_warning_msg=_LOGISTIC_SOLVER_CONVERGENCE_MSG)\n"
          ],
          "name": "stderr"
        }
      ]
    },
    {
      "cell_type": "markdown",
      "metadata": {
        "id": "r_8eAyNWt9w_"
      },
      "source": [
        "tf-idf"
      ]
    },
    {
      "cell_type": "code",
      "metadata": {
        "id": "rB08gCDqt6EQ"
      },
      "source": [
        "from sklearn.feature_extraction.text import TfidfVectorizer\n",
        "noise_words = []\n",
        "### Creating a python object of the class CountVectorizer\n",
        "tfidf_counts = TfidfVectorizer(tokenizer= word_tokenize, # type of tokenization\n",
        "                               stop_words=noise_words, # List of stopwords\n",
        "                               ngram_range=(1,1)) # number of n-grams\n",
        "\n",
        "tfidf_data = tfidf_counts.fit_transform(df1[\"full_text\"])"
      ],
      "execution_count": null,
      "outputs": []
    },
    {
      "cell_type": "markdown",
      "metadata": {
        "id": "YjlRUSwFEk5l"
      },
      "source": [
        "- splitting data"
      ]
    },
    {
      "cell_type": "code",
      "metadata": {
        "id": "xc1MlS8ruF53"
      },
      "source": [
        "X_train_tfidf, X_test_tfidf, y_train_tfidf, y_test_tfidf = train_test_split(tfidf_data,\n",
        "                                                                            df1[\"overall\"],\n",
        "                                                                            test_size = 0.3,\n",
        "                                                                            random_state = 0)"
      ],
      "execution_count": null,
      "outputs": []
    },
    {
      "cell_type": "markdown",
      "metadata": {
        "id": "OqM7N8WCEn5d"
      },
      "source": [
        "- Logistic regression and evaluation using tf-idf"
      ]
    },
    {
      "cell_type": "code",
      "metadata": {
        "id": "rb9bMpfluLrl",
        "colab": {
          "base_uri": "https://localhost:8080/"
        },
        "outputId": "ca8dc6d1-bf86-46d5-9faa-9fa0b5ba06c2"
      },
      "source": [
        "### Setting up the model class\n",
        "lr_model_tf_idf = LogisticRegression()\n",
        "## Training the model \n",
        "lr_model_tf_idf.fit(X_train_tfidf,y_train_tfidf)\n",
        "## Prediciting the results\n",
        "test_pred_lr_all = lr_model_tf_idf.predict(X_test_tfidf)\n",
        "## Calculate key performance metrics\n",
        "# Print a classification report\n",
        "print(classification_report(y_test_tfidf,test_pred_lr_all))"
      ],
      "execution_count": null,
      "outputs": [
        {
          "output_type": "stream",
          "text": [
            "/usr/local/lib/python3.7/dist-packages/sklearn/linear_model/_logistic.py:940: ConvergenceWarning: lbfgs failed to converge (status=1):\n",
            "STOP: TOTAL NO. of ITERATIONS REACHED LIMIT.\n",
            "\n",
            "Increase the number of iterations (max_iter) or scale the data as shown in:\n",
            "    https://scikit-learn.org/stable/modules/preprocessing.html\n",
            "Please also refer to the documentation for alternative solver options:\n",
            "    https://scikit-learn.org/stable/modules/linear_model.html#logistic-regression\n",
            "  extra_warning_msg=_LOGISTIC_SOLVER_CONVERGENCE_MSG)\n"
          ],
          "name": "stderr"
        },
        {
          "output_type": "stream",
          "text": [
            "              precision    recall  f1-score   support\n",
            "\n",
            "    Negative       0.87      0.76      0.81      1678\n",
            "     Neutral       0.85      0.84      0.85      2281\n",
            "    Positive       0.89      0.94      0.91      4409\n",
            "\n",
            "    accuracy                           0.88      8368\n",
            "   macro avg       0.87      0.85      0.86      8368\n",
            "weighted avg       0.87      0.88      0.87      8368\n",
            "\n"
          ],
          "name": "stdout"
        }
      ]
    },
    {
      "cell_type": "markdown",
      "metadata": {
        "id": "Rp03PkFWEwVa"
      },
      "source": [
        "- evaluation using bow "
      ]
    },
    {
      "cell_type": "code",
      "metadata": {
        "id": "wgqjePi4ts9v",
        "colab": {
          "base_uri": "https://localhost:8080/"
        },
        "outputId": "926d3368-dd03-41c1-c9ff-461bba87335c"
      },
      "source": [
        "from sklearn.metrics import classification_report\n",
        "# Print a classification report\n",
        "print(classification_report(y_test_bow,test_pred_lr_all))"
      ],
      "execution_count": null,
      "outputs": [
        {
          "output_type": "stream",
          "text": [
            "              precision    recall  f1-score   support\n",
            "\n",
            "    Negative       0.92      0.83      0.87      1678\n",
            "     Neutral       0.87      0.94      0.90      2281\n",
            "    Positive       0.95      0.94      0.95      4409\n",
            "\n",
            "    accuracy                           0.92      8368\n",
            "   macro avg       0.91      0.90      0.91      8368\n",
            "weighted avg       0.92      0.92      0.92      8368\n",
            "\n"
          ],
          "name": "stdout"
        }
      ]
    },
    {
      "cell_type": "markdown",
      "metadata": {
        "id": "MzyHZBudE21f"
      },
      "source": [
        "- Conclusion\n",
        "\n",
        "BOW is best feature engineering as compared to tf-idf"
      ]
    }
  ]
}